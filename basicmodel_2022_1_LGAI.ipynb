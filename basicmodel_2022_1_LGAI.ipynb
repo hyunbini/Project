{
  "cells": [
    {
      "cell_type": "markdown",
      "metadata": {
        "id": "IWNVeJ1_jvlN"
      },
      "source": [
        "Import"
      ]
    },
    {
      "cell_type": "code",
      "execution_count": 2,
      "metadata": {
        "id": "HWBri0kMjerG"
      },
      "outputs": [],
      "source": [
        "import pandas as pd\n",
        "import numpy as np\n",
        "import seaborn as sns\n",
        "import matplotlib.pyplot as plt\n",
        "import random\n",
        "import os\n",
        "from google.colab import drive\n",
        "from sklearn import preprocessing\n",
        "from sklearn.tree import DecisionTreeRegressor\n",
        "from sklearn.multioutput import MultiOutputRegressor\n",
        "from sklearn.ensemble import BaggingRegressor, GradientBoostingRegressor"
      ]
    },
    {
      "cell_type": "markdown",
      "metadata": {
        "id": "qeBJD3jXj31M"
      },
      "source": [
        "Set the seed"
      ]
    },
    {
      "cell_type": "code",
      "execution_count": 3,
      "metadata": {
        "id": "xCuEFpcvj64G"
      },
      "outputs": [],
      "source": [
        "def seed_everything(seed):\n",
        "    random.seed(seed)\n",
        "    os.environ['PYTHONHASHSEED'] = str(seed)\n",
        "    np.random.seed(seed)\n",
        "seed_everything(42)"
      ]
    },
    {
      "cell_type": "markdown",
      "metadata": {
        "id": "80LJjbjelod3"
      },
      "source": [
        "Check the Dirty Data"
      ]
    },
    {
      "cell_type": "code",
      "execution_count": 4,
      "metadata": {
        "id": "S1AXs1z7lrg7"
      },
      "outputs": [],
      "source": [
        "def check_nan(Filename):\n",
        "    result = sum(Filename.isna().sum()) # Consists of several columns, Add all result of nan values in each column\n",
        "    if result == 0:\n",
        "        print('It is Clear data.')\n",
        "    else:\n",
        "        new_data = Filename.dropna(axis=0, how='any', thresh=None, subset=None, inplace=False) # Create new data with nan value removed\n",
        "        print('Drop the nan value, and It is Clear data')\n",
        "        return new_data"
      ]
    },
    {
      "cell_type": "markdown",
      "metadata": {
        "id": "X8uSQQ9hkJMb"
      },
      "source": [
        "Upload the file and Data Curation"
      ]
    },
    {
      "cell_type": "code",
      "execution_count": 5,
      "metadata": {
        "id": "bGCDETwnlQns"
      },
      "outputs": [],
      "source": [
        "train_df = pd.read_csv('/content/drive/MyDrive/Colab Notebooks/ML Data/train.csv')\n",
        "train_x = train_df.filter(regex='X')\n",
        "train_y = train_df.filter(regex='Y')\n",
        "test_df = pd.read_csv('/content/drive/MyDrive/Colab Notebooks/ML Data/test.csv')\n",
        "test_x = test_df.drop(columns=['ID'])"
      ]
    },
    {
      "cell_type": "markdown",
      "metadata": {
        "id": "55b86_edojLd"
      },
      "source": [
        "Data Preparation"
      ]
    },
    {
      "cell_type": "code",
      "execution_count": 6,
      "metadata": {
        "colab": {
          "base_uri": "https://localhost:8080/"
        },
        "id": "XooyMKn1ol87",
        "outputId": "a461ab7f-603f-473a-c8f2-2e28f140163a"
      },
      "outputs": [
        {
          "output_type": "stream",
          "name": "stdout",
          "text": [
            "It is Clear data.\n",
            "It is Clear data.\n"
          ]
        }
      ],
      "source": [
        "check_nan(train_x)\n",
        "check_nan(train_y)"
      ]
    },
    {
      "cell_type": "markdown",
      "metadata": {
        "id": "3lyXqJh_onvf"
      },
      "source": [
        "Data Analysis"
      ]
    },
    {
      "cell_type": "code",
      "execution_count": null,
      "metadata": {
        "id": "BwXHlSfKoqD7"
      },
      "outputs": [],
      "source": [
        "decision_tree_model = MultiOutputRegressor(DecisionTreeRegressor())\n",
        "bagging_model = BaggingRegressor(estimator=decision_tree_model,n_estimators=250, verbose = 1)\n",
        "final_model = bagging_model.fit(train_x, train_y)\n",
        "pred_original = final_model.predict(test_x)"
      ]
    },
    {
      "cell_type": "markdown",
      "metadata": {
        "id": "CRplAjGNpBFX"
      },
      "source": [
        "Evaluation"
      ]
    },
    {
      "cell_type": "code",
      "execution_count": null,
      "metadata": {
        "colab": {
          "base_uri": "https://localhost:8080/"
        },
        "id": "erKTtWRlpCWs",
        "outputId": "e609dc61-819b-42cd-b8d8-1c10e6609356"
      },
      "outputs": [
        {
          "output_type": "stream",
          "name": "stdout",
          "text": [
            "Save clear\n",
            "Save clear\n",
            "Save clear\n",
            "Save clear\n",
            "Save clear\n",
            "Save clear\n",
            "Save clear\n",
            "Save clear\n",
            "Save clear\n",
            "Save clear\n",
            "Save clear\n",
            "Save clear\n",
            "Save clear\n",
            "Save clear\n",
            "Done\n"
          ]
        }
      ],
      "source": [
        "submit = pd.read_csv('/content/drive/MyDrive/Colab Notebooks/ML Data/sample_submission.csv')\n",
        "for idx,col in enumerate(submit.columns):\n",
        "    if col == 'ID':\n",
        "        continue\n",
        "    submit[col]=pred_original[:,idx-1]\n",
        "    print(\"Save clear\")\n",
        "submit.to_csv('/content/drive/MyDrive/Colab Notebooks/ML Data/sample_submission.csv', index=False)\n",
        "print(\"Done\")"
      ]
    }
  ],
  "metadata": {
    "accelerator": "GPU",
    "colab": {
      "provenance": [],
      "mount_file_id": "https://github.com/hyunbini/Project/blob/main/basicmodel_2022_1_LGAI.ipynb",
      "authorship_tag": "ABX9TyNxojyEDQuNRF3fIF2mvSgp"
    },
    "gpuClass": "standard",
    "kernelspec": {
      "display_name": "Python 3",
      "name": "python3"
    },
    "language_info": {
      "name": "python"
    }
  },
  "nbformat": 4,
  "nbformat_minor": 0
}