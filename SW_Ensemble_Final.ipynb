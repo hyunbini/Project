{
  "nbformat": 4,
  "nbformat_minor": 0,
  "metadata": {
    "colab": {
      "provenance": [],
      "authorship_tag": "ABX9TyOYK0DibQuFVT2MQfAh9yz+",
      "include_colab_link": true
    },
    "kernelspec": {
      "name": "python3",
      "display_name": "Python 3"
    },
    "language_info": {
      "name": "python"
    }
  },
  "cells": [
    {
      "cell_type": "markdown",
      "metadata": {
        "id": "view-in-github",
        "colab_type": "text"
      },
      "source": [
        "<a href=\"https://colab.research.google.com/github/hyunbini/Project/blob/main/SW_Ensemble_Final.ipynb\" target=\"_parent\"><img src=\"https://colab.research.google.com/assets/colab-badge.svg\" alt=\"Open In Colab\"/></a>"
      ]
    },
    {
      "cell_type": "code",
      "execution_count": null,
      "metadata": {
        "id": "Z6-xjpEFSCr4"
      },
      "outputs": [],
      "source": [
        "pip install scikit-learn xgboost catboost pandas"
      ]
    },
    {
      "cell_type": "code",
      "source": [
        "pip install konlpy"
      ],
      "metadata": {
        "id": "7UElJiyOUehv"
      },
      "execution_count": null,
      "outputs": []
    },
    {
      "cell_type": "code",
      "source": [
        "import pandas as pd\n",
        "import numpy as np\n",
        "from sklearn.feature_extraction.text import TfidfVectorizer\n",
        "from sklearn.ensemble import RandomForestClassifier\n",
        "from xgboost import XGBClassifier\n",
        "from catboost import CatBoostClassifier\n",
        "from sklearn.model_selection import train_test_split\n",
        "from sklearn.preprocessing import LabelEncoder\n",
        "from sklearn.metrics import classification_report, accuracy_score, roc_auc_score\n",
        "from konlpy.tag import Mecab\n",
        "from preprocess import preprocess_dataframe\n",
        "from google.colab import drive\n",
        "drive.mount('/content/drive')"
      ],
      "metadata": {
        "id": "gamddA_iUAk2"
      },
      "execution_count": null,
      "outputs": []
    },
    {
      "cell_type": "code",
      "source": [
        "# 🔹 형태소 분석기 기반 tokenizer 정의\n",
        "mecab = Mecab(dicpath='/opt/homebrew/Cellar/mecab-ko-dic/2.1.1-20180720/lib/mecab/dic/mecab-ko-dic')\n",
        "def tokenize(text):\n",
        "    return mecab.morphs(text)\n",
        "\n",
        "# 🔹 1. 데이터 로드\n",
        "train_df = pd.read_csv('/content/drive/MyDrive/train.csv', encoding='utf-8-sig')\n",
        "train_df = preprocess_dataframe(train_df, text_col='full_text')\n",
        "\n",
        "# 🔹 2. Label Encoding\n",
        "label_encoder = LabelEncoder()\n",
        "y = label_encoder.fit_transform(train_df['generated'])\n",
        "\n",
        "# 🔹 3. TF-IDF 벡터화\n",
        "vectorizer = TfidfVectorizer(\n",
        "    tokenizer=tokenize,\n",
        "    ngram_range=(1, 2),\n",
        "    max_features=10000\n",
        ")\n",
        "X = vectorizer.fit_transform(train_df['full_text'])\n",
        "\n",
        "# 🔹 4. Train/Test 분할\n",
        "X_train, X_val, y_train, y_val = train_test_split(X, y, test_size=0.2, random_state=42)\n",
        "\n",
        "# 🔹 5. 개별 모델 학습\n",
        "xgb_model = XGBClassifier(use_label_encoder=False, eval_metric='logloss')\n",
        "xgb_model.fit(X_train, y_train)\n",
        "\n",
        "cat_model = CatBoostClassifier(verbose=0)\n",
        "cat_model.fit(X_train, y_train)\n",
        "\n",
        "rf_model = RandomForestClassifier(n_estimators=100, random_state=42)\n",
        "rf_model.fit(X_train, y_train)\n",
        "\n",
        "# 🔹 6. Soft Voting 예측 (검증셋)\n",
        "xgb_probs = xgb_model.predict_proba(X_val)\n",
        "cat_probs = cat_model.predict_proba(X_val)\n",
        "rf_probs = rf_model.predict_proba(X_val)\n",
        "\n",
        "avg_probs = (xgb_probs + cat_probs + rf_probs) / 3\n",
        "ensemble_preds = np.argmax(avg_probs, axis=1)\n",
        "\n",
        "# 🔹 7. 평가 출력\n",
        "print(classification_report(y_val, ensemble_preds))\n",
        "print(\"Accuracy:\", accuracy_score(y_val, ensemble_preds))\n",
        "print(\"ROC-AUC:\", roc_auc_score(y_val, avg_probs[:, 1]))\n",
        "\n",
        "# 🔹 8. 테스트셋 예측\n",
        "test_df = pd.read_csv('/content/drive/MyDrive/test.csv', encoding='utf-8-sig')\n",
        "X_test_final = vectorizer.transform(test_df['paragraph_text'])\n",
        "\n",
        "xgb_test_probs = xgb_model.predict_proba(X_test_final)\n",
        "cat_test_probs = cat_model.predict_proba(X_test_final)\n",
        "rf_test_probs = rf_model.predict_proba(X_test_final)\n",
        "\n",
        "avg_test_probs = (xgb_test_probs + cat_test_probs + rf_test_probs) / 3\n",
        "test_preds = np.argmax(avg_test_probs, axis=1)\n",
        "test_labels = label_encoder.inverse_transform(test_preds)\n",
        "\n",
        "# 🔹 9. 제출 파일 저장\n",
        "submission = pd.read_csv('/content/drive/MyDrive/submission.csv')\n",
        "submission['generated'] = test_labels\n",
        "submission.to_csv('/content/drive/MyDrive/submission.csv', index=False)\n",
        "\n",
        "print(\"Finish\")"
      ],
      "metadata": {
        "id": "K-QDOs8Dac6I"
      },
      "execution_count": null,
      "outputs": []
    }
  ]
}