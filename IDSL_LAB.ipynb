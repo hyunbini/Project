{
  "cells": [
    {
      "cell_type": "markdown",
      "metadata": {
        "id": "view-in-github",
        "colab_type": "text"
      },
      "source": [
        "<a href=\"https://colab.research.google.com/github/hyunbini/Project/blob/main/IDSL_LAB.ipynb\" target=\"_parent\"><img src=\"https://colab.research.google.com/assets/colab-badge.svg\" alt=\"Open In Colab\"/></a>"
      ]
    },
    {
      "cell_type": "markdown",
      "metadata": {
        "id": "tzS3GM533A6q"
      },
      "source": [
        "Import Library"
      ]
    },
    {
      "cell_type": "code",
      "execution_count": 1,
      "metadata": {
        "colab": {
          "base_uri": "https://localhost:8080/"
        },
        "id": "uohUPTt21gIL",
        "outputId": "3a92aaed-b590-411b-a1e4-f383e8ced4e8"
      },
      "outputs": [
        {
          "output_type": "stream",
          "name": "stdout",
          "text": [
            "Mounted at /content/drive\n"
          ]
        },
        {
          "output_type": "stream",
          "name": "stderr",
          "text": [
            "[nltk_data] Downloading package stopwords to /root/nltk_data...\n",
            "[nltk_data]   Unzipping corpora/stopwords.zip.\n"
          ]
        }
      ],
      "source": [
        "import pandas as pd\n",
        "import numpy as np\n",
        "import matplotlib.pyplot as plt\n",
        "import re\n",
        "from google.colab import drive\n",
        "drive.mount('/content/drive')\n",
        "import nltk\n",
        "nltk.download('stopwords')\n",
        "from nltk.corpus import stopwords\n",
        "stop = stopwords.words('english')\n",
        "from sklearn.feature_extraction.text import CountVectorizer\n",
        "from sklearn.metrics.pairwise import cosine_similarity\n",
        "import cv2\n",
        "from google.colab.patches import cv2_imshow\n",
        "import requests"
      ]
    },
    {
      "cell_type": "markdown",
      "metadata": {
        "id": "QLQ8-8YPF33X"
      },
      "source": [
        "User-defined Function used in code"
      ]
    },
    {
      "cell_type": "code",
      "execution_count": 2,
      "metadata": {
        "id": "S2PrkRjtFNak"
      },
      "outputs": [],
      "source": [
        "def check_nan(file):\n",
        "  result = file.isnull().sum()\n",
        "  return result"
      ]
    },
    {
      "cell_type": "code",
      "execution_count": 3,
      "metadata": {
        "id": "dtYL-stfC_0J"
      },
      "outputs": [],
      "source": [
        "#Function that extracts user_id who wrote one or more reviews\n",
        "#Input : series(pandas dataframe)\n",
        "#Output : result(list)\n",
        "def make_list(series1):\n",
        "  result = []\n",
        "  for i in range(series1.size):\n",
        "    #Add user_id who have written reviews more than once to the new list\n",
        "    if series1[i]>1:\n",
        "      result.append(series1.index[i])\n",
        "  return result"
      ]
    },
    {
      "cell_type": "code",
      "execution_count": 4,
      "metadata": {
        "id": "z79IJmG3RWZr"
      },
      "outputs": [],
      "source": [
        "#Function that labels data composed of complex characters numerically based on ascending order\\\n",
        "#Input : list1(list to be replaced), list2(reference list), dic(dictionary to store the values of reference list and its unique labeling numbers)\n",
        "#Output : list_df(Dataframe made from a labeled list)\n",
        "def labeling_user_id(list1,list2,dic):\n",
        "  i = 0\n",
        "  for data in list1:\n",
        "    if data in list2:\n",
        "      if data in dic.keys():\n",
        "        list1[i] = dic[data]\n",
        "      else:\n",
        "        dic[data] = i\n",
        "        list1[i] = i\n",
        "      i = i+1\n",
        "    else:\n",
        "      list1[i] = i\n",
        "      i = i+1\n",
        "  for y in range(len(list1)):\n",
        "    list1[y] = list1[y]+1\n",
        "  list_df = pd.DataFrame(data=list1, columns= ['labeling_user_id'])\n",
        "  return list_df"
      ]
    },
    {
      "cell_type": "code",
      "execution_count": 5,
      "metadata": {
        "id": "8dL5EgrghfPQ"
      },
      "outputs": [],
      "source": [
        "#Function that make a list with data that goes up from zero to a list that goes up in ascending order\n",
        "#Input : dataframe\n",
        "#Output : list\n",
        "def make_label_list(dataset_name):\n",
        "  emptylist = []\n",
        "  for i in range(len(dataset_name)):\n",
        "    emptylist.append(i)\n",
        "    i = i+1\n",
        "  list_df_1 = pd.DataFrame(data=emptylist, columns=['labeling_list'])\n",
        "  return list_df_1"
      ]
    },
    {
      "cell_type": "code",
      "execution_count": 6,
      "metadata": {
        "id": "Ut2yXXCyYO25"
      },
      "outputs": [],
      "source": [
        "#Function that removes unnecessary sentence symbols, case-sensive, and meaningless word in a sentence to vectorize\n",
        "#Input : string\n",
        "#Output : string\n",
        "def text_preprocessing(column):\n",
        "    #Make all words with lower letters\n",
        "    column = column.str.lower()\n",
        "    #Remove unnecessary punctuation marks\n",
        "    column = column.str.replace('[-=+,#?^@*\\\"※~ㆍ!』‘|\\(\\)\\[\\]\\{\\}`\\'…》\\\"\\\"\\“\\’·]', '', case=False)\n",
        "    #Spliting each sentence to words to apply erase meaningless word\n",
        "    word_tokens = column.str.split()\n",
        "    keywords = word_tokens.apply(lambda x: [item for item in x if item not in stop])\n",
        "    #assemble words of each sentence again and assign them in new column\n",
        "    for i in range(len(keywords)):\n",
        "        keywords[i] = \" \".join(keywords[i])\n",
        "        column = keywords\n",
        "    return column"
      ]
    },
    {
      "cell_type": "code",
      "execution_count": 7,
      "metadata": {
        "id": "thUYv-nI9tZW"
      },
      "outputs": [],
      "source": [
        "#Function that receives the parent_asin of the review product user wrote using the user_id after receiving the user_id\n",
        "#Input : float\n",
        "#Output : string\n",
        "def found_asin(user_id):\n",
        "  label = reviewdata['user_id']\n",
        "  label_df_list = label.to_list()\n",
        "  save_asin = []\n",
        "  for data in label_df_list:\n",
        "    if data == user_id:\n",
        "      save_asin.append(data)\n",
        "  if (len(save_asin)) == 1:\n",
        "    return reviewdata[reviewdata['user_id'] == user_id]['parent_asin'].values[0]\n",
        "  elif (len(save_asin)) > 1:\n",
        "    for data_1 in save_asin:\n",
        "      high_data = float(reviewdata[reviewdata['user_id']==data_1]['rating'].values[0])\n",
        "      if float(reviewdata[reviewdata['user_id']==data_1]['rating'].values[0])>high_data:\n",
        "        high_value = float(reviewdata[reviewdata['user_id']==data_1]['rating'].values[0])\n",
        "      else:\n",
        "        high_value = high_data\n",
        "    return reviewdata[reviewdata['rating']==high_value]['parent_asin'].values[0]\n",
        "  else:\n",
        "    print(\"Wrong User_id, Please try again 1~70883.\")"
      ]
    },
    {
      "cell_type": "code",
      "execution_count": 8,
      "metadata": {
        "id": "XJzF_di4DOCt"
      },
      "outputs": [],
      "source": [
        "#Function to find the details of the product that fit parent_asin\n",
        "#Input : string\n",
        "#Output : string\n",
        "def found_data(asin_id):\n",
        "  asindata = metadata['parent_asin']\n",
        "  asindata_df_list = asindata.to_list()\n",
        "  for dt in asindata_df_list:\n",
        "    if dt == asin_id:\n",
        "      return metadata[metadata['parent_asin'] == asin_id]['details'].values[0]"
      ]
    },
    {
      "cell_type": "code",
      "execution_count": 9,
      "metadata": {
        "id": "0t2oEapfjPVN"
      },
      "outputs": [],
      "source": [
        "#Reference code : https://nyagya.tistory.com/8\n",
        "#Function that receives the url for the product and show the image\n",
        "#Input : string\n",
        "#Output : Image or String\n",
        "def image_show(dataurl):\n",
        "    dataurl_str = ''.join(dataurl)\n",
        "    url = re.sub('[=+,#?^@*\\\"※~ㆍ!』‘|\\(\\)\\[\\]`\\'…》\\”\\“\\’·]', \"\",dataurl_str)\n",
        "    dataurl_list = url.split()\n",
        "    url_list = [s for s in dataurl_list if \"https://\" in s][0]\n",
        "    url_data = ''.join(url_list)\n",
        "    image_nparray = np.asarray(bytearray(requests.get(url_data).content), dtype=np.uint8)\n",
        "    image = cv2.imdecode(image_nparray, cv2.IMREAD_COLOR)\n",
        "    if str(type(image)) == \"<class 'numpy.ndarray'>\":\n",
        "      image_final = cv2.resize(image,(100,100))\n",
        "      cv2_imshow(image_final)\n",
        "      cv2.waitKey(0)\n",
        "    else:\n",
        "      print(\"Sorry, There is no image for this product.\")"
      ]
    },
    {
      "cell_type": "code",
      "execution_count": 10,
      "metadata": {
        "id": "OrBwQg850_uG"
      },
      "outputs": [],
      "source": [
        "#Fucntion that find product information which user already bought\n",
        "#Input : dataframe, string\n",
        "#Output : string\n",
        "def getinfo_review(dataname,asin):\n",
        "  title = dataname[dataname['parent_asin']==asin]['title'].values[0]\n",
        "  price = dataname[dataname['title']==title]['price'].values[0]\n",
        "  rating = reviewdata[reviewdata['parent_asin']==asin]['rating'].values[0]\n",
        "  data = str(dataname[dataname['title']==title]['images'].values[0])\n",
        "  print(title,price,rating)\n",
        "  return data"
      ]
    },
    {
      "cell_type": "code",
      "execution_count": 11,
      "metadata": {
        "id": "lzSNbtCA19un"
      },
      "outputs": [],
      "source": [
        "#Fucntion that find product information which recommend new product based on user's review\n",
        "#Input : dataframe, int, string\n",
        "#Output : string\n",
        "def getinfo_new(dataname,ranknum,titlename):\n",
        "  rank = ranknum\n",
        "  rating = dataname[dataname['title']==titlename]['average_rating'].values[0]\n",
        "  price = dataname[dataname['title']==titlename]['price'].values[0]\n",
        "  detail = dataname[dataname['title']==titlename]['details'].values[0]\n",
        "  data = str(dataname[dataname['title']==titlename]['images'].values[0])\n",
        "  print(rank,titlename,rating,price,detail)\n",
        "  return data"
      ]
    },
    {
      "cell_type": "code",
      "execution_count": 12,
      "metadata": {
        "id": "--VtKrRO8YPA"
      },
      "outputs": [],
      "source": [
        "#Function that create a list of recommedation list\n",
        "#Input : int, dataframe, array\n",
        "#Output : list or tuple\n",
        "def recommendation_model(asin,preddata,modeling):\n",
        "  #Run the code when details information are not available\n",
        "  if preddata.empty==True:\n",
        "    #Get the main category information that user already bought\n",
        "    category_info =metadata[metadata['parent_asin']==asin]['main_category'].values[0]\n",
        "    #Sort the data in order of average rating\n",
        "    pred_category_data = metadata[metadata['main_category']==category_info].sort_values(by=['average_rating'],ascending=False)\n",
        "    #Separate labeling_list and average_rating required for output\n",
        "    pred_category_label_list = pred_category_data[['labeling_list','average_rating']]\n",
        "    #Change dataframe to the list\n",
        "    pred_category_label = pred_category_label_list.values.tolist()\n",
        "    #Hang up in the top 5\n",
        "    pred_item_list_based_cg = pred_category_label[0:5]\n",
        "    print('These products with high ratings among those in the same category as those purchased recently.')\n",
        "    return pred_item_list_based_cg\n",
        "  #Run the code when details information are available\n",
        "  else:\n",
        "    pred_labeling_id = preddata['labeling_list'].values[0]\n",
        "    #Calculation of similarity with cosine similarity\n",
        "    pred_score_list = list(enumerate(modeling[pred_labeling_id]))\n",
        "    #Sort the similar product in descending order\n",
        "    pred_sorted_score = sorted(pred_score_list, key=lambda x:x[1], reverse= True)\n",
        "    #Ignore the first score because it's the same, also hang up in the top 5\n",
        "    pred_item_list_based_cs = pred_sorted_score[1:6]\n",
        "    print('These products have similarity and details to the recently purchased products.')\n",
        "    return pred_item_list_based_cs"
      ]
    },
    {
      "cell_type": "markdown",
      "metadata": {
        "id": "thldBraK3Dg1"
      },
      "source": [
        "Import Data and Remove NaN Value and Unuseful Columns\n",
        "\n"
      ]
    },
    {
      "cell_type": "code",
      "execution_count": 13,
      "metadata": {
        "colab": {
          "base_uri": "https://localhost:8080/"
        },
        "id": "YvRzMqFw3GT5",
        "outputId": "27c17d05-35c8-40bc-f4d9-eca4441673ae"
      },
      "outputs": [
        {
          "output_type": "stream",
          "name": "stdout",
          "text": [
            "  main_category                                              title  \\\n",
            "0    All Beauty  Howard LC0008 Leather Conditioner, 8-Ounce (4-...   \n",
            "1    All Beauty  Lurrose 100Pcs Full Cover Fake Toenails Artifi...   \n",
            "2    All Beauty                         Gold extatic Musk EDT 90ml   \n",
            "3    All Beauty  Brand New Headrang Face line Contour V-line Ma...   \n",
            "4    All Beauty  7 Packs Deep Wave Crochet Hair 22 Inch Deep wa...   \n",
            "\n",
            "   average_rating  rating_number  \\\n",
            "0             4.8             10   \n",
            "1             3.7             35   \n",
            "2             3.7              2   \n",
            "3             3.3              4   \n",
            "4             3.4             10   \n",
            "\n",
            "                                            features  \\\n",
            "0                                                 []   \n",
            "1  [The false toenails are durable with perfect l...   \n",
            "2  [Extatic Balmain Gold Musk By Balmain Edt Spra...   \n",
            "3                                                 []   \n",
            "4                                                 []   \n",
            "\n",
            "                                         description  price  \\\n",
            "0                                                 []   None   \n",
            "1  [Description, The false toenails are durable w...   6.99   \n",
            "2             [Edt spray 3 oz design house: balmain]  86.95   \n",
            "3                                                 []   79.5   \n",
            "4                                                 []   None   \n",
            "\n",
            "                                              images  \\\n",
            "0  {'hi_res': [None, 'https://m.media-amazon.com/...   \n",
            "1  {'hi_res': ['https://m.media-amazon.com/images...   \n",
            "2  {'hi_res': ['https://m.media-amazon.com/images...   \n",
            "3  {'hi_res': ['https://m.media-amazon.com/images...   \n",
            "4  {'hi_res': ['https://m.media-amazon.com/images...   \n",
            "\n",
            "                                    videos            store categories  \\\n",
            "0  {'title': [], 'url': [], 'user_id': []}  Howard Products         []   \n",
            "1  {'title': [], 'url': [], 'user_id': []}          Lurrose         []   \n",
            "2  {'title': [], 'url': [], 'user_id': []}          Balmain         []   \n",
            "3  {'title': [], 'url': [], 'user_id': []}             None         []   \n",
            "4  {'title': [], 'url': [], 'user_id': []}     Yun Mei Hair         []   \n",
            "\n",
            "                                             details parent_asin  \\\n",
            "0  {\"Package Dimensions\": \"7.1 x 5.5 x 3 inches; ...  B01CUPMQZE   \n",
            "1  {\"Color\": \"As Shown\", \"Size\": \"Large\", \"Materi...  B07G9GWFSM   \n",
            "2  {\"Brand\": \"Balmain\", \"Item Form\": \"Spray\", \"It...  B01ERJEGS6   \n",
            "3  {\"Is Discontinued By Manufacturer\": \"No\", \"Pac...  B06XJZ7955   \n",
            "4  {\"Brand\": \"Yun Mei Hair\", \"Material\": \"Synthet...  B07Z818MLY   \n",
            "\n",
            "   bought_together  subtitle  author  \n",
            "0              NaN       NaN     NaN  \n",
            "1              NaN       NaN     NaN  \n",
            "2              NaN       NaN     NaN  \n",
            "3              NaN       NaN     NaN  \n",
            "4              NaN       NaN     NaN  \n",
            "   rating                                              title  \\\n",
            "0       5  Quality hair iron, works perfectly to straight...   \n",
            "1       5                                       nice sized !   \n",
            "2       2                    I'll stick to my 5 blade razor.   \n",
            "3       1                                       Don’t bother   \n",
            "4       5                                Really nice quality   \n",
            "\n",
            "                                                text images        asin  \\\n",
            "0  This is a great hair straightener. Heats up qu...     []  B07GHPCT6T   \n",
            "1  i had a small one  that just got destroyed  th...     []  B082QX2HP6   \n",
            "2  I think I need to stick with my 5 blade razor....     []  B07K8VTT6M   \n",
            "3  Normally I like NYX products but not this one....     []  B01M5KNSQN   \n",
            "4  These are not what I was expecting. They are s...     []  B081GCFHPG   \n",
            "\n",
            "  parent_asin                       user_id               timestamp  \\\n",
            "0  B07GHPCT6T  AFSKPY37N3C43SOI5IEXEK5JSIYA 2020-08-23 19:54:36.613   \n",
            "1  B082QX2HP6  AHGAOIZVODNHYMNCBV4DECZH42UQ 2020-03-21 14:04:53.853   \n",
            "2  B07K8VTT6M  AGC3Q6IXOVLTTDMS4Q55FPYUF6FQ 2020-05-17 14:00:40.497   \n",
            "3  B01M5KNSQN  AFETVW7S5M4LVJ7GTWPCKT7S3YBQ 2022-04-10 23:42:11.604   \n",
            "4  B081GCFHPG  AE5DIA2HDWBPNGBO2FXN2PF4NQJA 2021-06-12 01:02:14.108   \n",
            "\n",
            "   helpful_vote  verified_purchase  \n",
            "0             0              False  \n",
            "1             0               True  \n",
            "2             0               True  \n",
            "3             0               True  \n",
            "4             0               True  \n",
            "main_category          0\n",
            "title                  0\n",
            "average_rating         0\n",
            "rating_number          0\n",
            "features               0\n",
            "description            0\n",
            "price                  0\n",
            "images                 0\n",
            "videos                 0\n",
            "store               1105\n",
            "categories             0\n",
            "details                0\n",
            "parent_asin            0\n",
            "bought_together    11257\n",
            "subtitle           11257\n",
            "author             11257\n",
            "dtype: int64\n",
            "rating               0\n",
            "title                0\n",
            "text                 0\n",
            "images               0\n",
            "asin                 0\n",
            "parent_asin          0\n",
            "user_id              0\n",
            "timestamp            0\n",
            "helpful_vote         0\n",
            "verified_purchase    0\n",
            "dtype: int64\n"
          ]
        }
      ],
      "source": [
        "meta_json = pd.read_json('/content/drive/MyDrive/IDSL Recruitment/[Data 1] Eng - Review Analysis/metadata.json')\n",
        "review_json = pd.read_json('/content/drive/MyDrive/IDSL Recruitment/[Data 1] Eng - Review Analysis/reviews.json')\n",
        "print(meta_json.head())\n",
        "print(review_json.head())\n",
        "print(check_nan(meta_json))\n",
        "print(check_nan(review_json))"
      ]
    },
    {
      "cell_type": "code",
      "execution_count": 14,
      "metadata": {
        "colab": {
          "base_uri": "https://localhost:8080/"
        },
        "id": "29yeHad3C4HZ",
        "outputId": "dbf07f9f-9d9a-481a-da00-35c300e41602"
      },
      "outputs": [
        {
          "output_type": "stream",
          "name": "stdout",
          "text": [
            "  main_category                                              title  \\\n",
            "0    All Beauty  Howard LC0008 Leather Conditioner, 8-Ounce (4-...   \n",
            "1    All Beauty  Lurrose 100Pcs Full Cover Fake Toenails Artifi...   \n",
            "2    All Beauty                         Gold extatic Musk EDT 90ml   \n",
            "3    All Beauty  Brand New Headrang Face line Contour V-line Ma...   \n",
            "4    All Beauty  7 Packs Deep Wave Crochet Hair 22 Inch Deep wa...   \n",
            "\n",
            "   average_rating                                        description  price  \\\n",
            "0             4.8                                                 []   None   \n",
            "1             3.7  [Description, The false toenails are durable w...   6.99   \n",
            "2             3.7             [Edt spray 3 oz design house: balmain]  86.95   \n",
            "3             3.3                                                 []   79.5   \n",
            "4             3.4                                                 []   None   \n",
            "\n",
            "                                              images            store  \\\n",
            "0  {'hi_res': [None, 'https://m.media-amazon.com/...  Howard Products   \n",
            "1  {'hi_res': ['https://m.media-amazon.com/images...          Lurrose   \n",
            "2  {'hi_res': ['https://m.media-amazon.com/images...          Balmain   \n",
            "3  {'hi_res': ['https://m.media-amazon.com/images...             None   \n",
            "4  {'hi_res': ['https://m.media-amazon.com/images...     Yun Mei Hair   \n",
            "\n",
            "                                             details parent_asin  \n",
            "0  {\"Package Dimensions\": \"7.1 x 5.5 x 3 inches; ...  B01CUPMQZE  \n",
            "1  {\"Color\": \"As Shown\", \"Size\": \"Large\", \"Materi...  B07G9GWFSM  \n",
            "2  {\"Brand\": \"Balmain\", \"Item Form\": \"Spray\", \"It...  B01ERJEGS6  \n",
            "3  {\"Is Discontinued By Manufacturer\": \"No\", \"Pac...  B06XJZ7955  \n",
            "4  {\"Brand\": \"Yun Mei Hair\", \"Material\": \"Synthet...  B07Z818MLY  \n",
            "   rating parent_asin                       user_id\n",
            "0       5  B07GHPCT6T  AFSKPY37N3C43SOI5IEXEK5JSIYA\n",
            "1       5  B082QX2HP6  AHGAOIZVODNHYMNCBV4DECZH42UQ\n",
            "2       2  B07K8VTT6M  AGC3Q6IXOVLTTDMS4Q55FPYUF6FQ\n",
            "3       1  B01M5KNSQN  AFETVW7S5M4LVJ7GTWPCKT7S3YBQ\n",
            "4       5  B081GCFHPG  AE5DIA2HDWBPNGBO2FXN2PF4NQJA\n"
          ]
        }
      ],
      "source": [
        "meta = meta_json.drop(['rating_number','categories','videos', 'features', 'bought_together', 'subtitle', 'author'],axis = 1)\n",
        "print(meta.head())\n",
        "reviewdata = review_json.drop(['title', 'text','images','timestamp','helpful_vote','verified_purchase','asin'],axis=1)\n",
        "print(reviewdata.head())"
      ]
    },
    {
      "cell_type": "markdown",
      "metadata": {
        "id": "sP1inIVWC32n"
      },
      "source": [
        "Extracting duplicate data and labeling of the user_id value to be used for prediction"
      ]
    },
    {
      "cell_type": "code",
      "execution_count": 15,
      "metadata": {
        "colab": {
          "base_uri": "https://localhost:8080/"
        },
        "id": "Hg2ENOv0jay9",
        "outputId": "cdf693f6-7551-4e7e-be0b-71b4a4ed251c"
      },
      "outputs": [
        {
          "output_type": "stream",
          "name": "stdout",
          "text": [
            "The total number of reviews is 70883\n",
            "The user who wrote the review is 68934\n"
          ]
        }
      ],
      "source": [
        "id = reviewdata['user_id']\n",
        "print(\"The total number of reviews is\", id.size)\n",
        "id_count = (id.value_counts())\n",
        "print(\"The user who wrote the review is\", id_count.size)"
      ]
    },
    {
      "cell_type": "code",
      "execution_count": 16,
      "metadata": {
        "colab": {
          "base_uri": "https://localhost:8080/"
        },
        "id": "PA1Qa0pdjbHD",
        "outputId": "6fbc53c1-c77a-4c79-82b9-987ceae872f4"
      },
      "outputs": [
        {
          "output_type": "stream",
          "name": "stderr",
          "text": [
            "<ipython-input-3-e8b33d3049f5>:8: FutureWarning: Series.__getitem__ treating keys as positions is deprecated. In a future version, integer keys will always be treated as labels (consistent with DataFrame behavior). To access a value by position, use `ser.iloc[pos]`\n",
            "  if series1[i]>1:\n"
          ]
        }
      ],
      "source": [
        "#Create only unique values of the user_id as a list\n",
        "dup_ind = make_list(id_count)\n",
        "user_id = id.to_list()\n",
        "label_dic = {}\n",
        "reviewdata['user_id'] = labeling_user_id(user_id,dup_ind,label_dic)"
      ]
    },
    {
      "cell_type": "code",
      "execution_count": 17,
      "metadata": {
        "id": "txbcZyhpu3Gn"
      },
      "outputs": [],
      "source": [
        "#Create a product label to use when extracting a recommend product in the prediction part\n",
        "new_label_df = make_label_list(meta)"
      ]
    },
    {
      "cell_type": "code",
      "execution_count": 18,
      "metadata": {
        "colab": {
          "base_uri": "https://localhost:8080/"
        },
        "id": "bfxUEv2r7_l1",
        "outputId": "ac00bfe3-bfe1-4223-8162-b5cc0622ab90"
      },
      "outputs": [
        {
          "output_type": "stream",
          "name": "stdout",
          "text": [
            "  main_category                                              title  \\\n",
            "0    All Beauty  Howard LC0008 Leather Conditioner, 8-Ounce (4-...   \n",
            "1    All Beauty  Lurrose 100Pcs Full Cover Fake Toenails Artifi...   \n",
            "2    All Beauty                         Gold extatic Musk EDT 90ml   \n",
            "3    All Beauty  Brand New Headrang Face line Contour V-line Ma...   \n",
            "4    All Beauty  7 Packs Deep Wave Crochet Hair 22 Inch Deep wa...   \n",
            "\n",
            "   average_rating                                        description  price  \\\n",
            "0             4.8                                                 []   None   \n",
            "1             3.7  [Description, The false toenails are durable w...   6.99   \n",
            "2             3.7             [Edt spray 3 oz design house: balmain]  86.95   \n",
            "3             3.3                                                 []   79.5   \n",
            "4             3.4                                                 []   None   \n",
            "\n",
            "                                              images            store  \\\n",
            "0  {'hi_res': [None, 'https://m.media-amazon.com/...  Howard Products   \n",
            "1  {'hi_res': ['https://m.media-amazon.com/images...          Lurrose   \n",
            "2  {'hi_res': ['https://m.media-amazon.com/images...          Balmain   \n",
            "3  {'hi_res': ['https://m.media-amazon.com/images...             None   \n",
            "4  {'hi_res': ['https://m.media-amazon.com/images...     Yun Mei Hair   \n",
            "\n",
            "                                             details parent_asin  \\\n",
            "0  {\"Package Dimensions\": \"7.1 x 5.5 x 3 inches; ...  B01CUPMQZE   \n",
            "1  {\"Color\": \"As Shown\", \"Size\": \"Large\", \"Materi...  B07G9GWFSM   \n",
            "2  {\"Brand\": \"Balmain\", \"Item Form\": \"Spray\", \"It...  B01ERJEGS6   \n",
            "3  {\"Is Discontinued By Manufacturer\": \"No\", \"Pac...  B06XJZ7955   \n",
            "4  {\"Brand\": \"Yun Mei Hair\", \"Material\": \"Synthet...  B07Z818MLY   \n",
            "\n",
            "   labeling_list  \n",
            "0              0  \n",
            "1              1  \n",
            "2              2  \n",
            "3              3  \n",
            "4              4  \n",
            "   rating parent_asin  user_id\n",
            "0       5  B07GHPCT6T        1\n",
            "1       5  B082QX2HP6        2\n",
            "2       2  B07K8VTT6M        3\n",
            "3       1  B01M5KNSQN        4\n",
            "4       5  B081GCFHPG        5\n"
          ]
        }
      ],
      "source": [
        "#Combine meta and new_label_df dataset into one dataframe\n",
        "metadata = pd.concat([meta,new_label_df],axis=1)\n",
        "print(metadata.head())\n",
        "print(reviewdata.head())"
      ]
    },
    {
      "cell_type": "code",
      "source": [
        "print(metadata['details'])"
      ],
      "metadata": {
        "colab": {
          "base_uri": "https://localhost:8080/"
        },
        "id": "pcv34VVG6wn9",
        "outputId": "c9439f2c-1ddb-4227-b609-b7eeac0d2718"
      },
      "execution_count": 19,
      "outputs": [
        {
          "output_type": "stream",
          "name": "stdout",
          "text": [
            "0        {\"Package Dimensions\": \"7.1 x 5.5 x 3 inches; ...\n",
            "1        {\"Color\": \"As Shown\", \"Size\": \"Large\", \"Materi...\n",
            "2        {\"Brand\": \"Balmain\", \"Item Form\": \"Spray\", \"It...\n",
            "3        {\"Is Discontinued By Manufacturer\": \"No\", \"Pac...\n",
            "4        {\"Brand\": \"Yun Mei Hair\", \"Material\": \"Synthet...\n",
            "                               ...                        \n",
            "11252    {\"Product Dimensions\": \"7 x 3 x 2 inches; 1.43...\n",
            "11253                                                   {}\n",
            "11254    {\"Brand\": \"Creamily\", \"Material\": \"Human Hair\"...\n",
            "11255    {\"Color\": \"Black\", \"Brand\": \"OLIBOLLA\", \"Item ...\n",
            "11256                                                   {}\n",
            "Name: details, Length: 11257, dtype: object\n"
          ]
        }
      ]
    },
    {
      "cell_type": "code",
      "source": [
        "x = metadata['labeling_list']\n",
        "y = metadata['main_category']\n",
        "plt.plot(x,y,'b+')\n",
        "plt.show()"
      ],
      "metadata": {
        "colab": {
          "base_uri": "https://localhost:8080/",
          "height": 430
        },
        "id": "eM-oZaNb0-Mj",
        "outputId": "af2ed5d0-7f16-4c07-d8dd-566eb71df3c1"
      },
      "execution_count": 20,
      "outputs": [
        {
          "output_type": "display_data",
          "data": {
            "text/plain": [
              "<Figure size 640x480 with 1 Axes>"
            ],
            "image/png": "[encoded data removed]"
          },
          "metadata": {}
        }
      ]
    },
    {
      "cell_type": "markdown",
      "metadata": {
        "id": "llW9TZU9MGUb"
      },
      "source": [
        "Modeling"
      ]
    },
    {
      "cell_type": "code",
      "execution_count": 21,
      "metadata": {
        "id": "Vc1pEqlpK4hs"
      },
      "outputs": [],
      "source": [
        "#Get details data for text processing\n",
        "details_df = metadata['details']\n",
        "details_str_df = details_df.astype(str)\n",
        "tp_details_df = text_preprocessing(details_str_df)"
      ]
    },
    {
      "cell_type": "code",
      "execution_count": 22,
      "metadata": {
        "id": "4-PQkrBxZKDF"
      },
      "outputs": [],
      "source": [
        "CV = CountVectorizer()\n",
        "#Make metrix used string\n",
        "converted_metrix = CV.fit_transform(tp_details_df)\n",
        "cs_result = cosine_similarity(converted_metrix)"
      ]
    },
    {
      "cell_type": "markdown",
      "metadata": {
        "id": "DuCUQkRIjbbh"
      },
      "source": [
        "Prediction"
      ]
    },
    {
      "cell_type": "code",
      "execution_count": 23,
      "metadata": {
        "id": "hgEs52vwQmZ0",
        "colab": {
          "base_uri": "https://localhost:8080/",
          "height": 151
        },
        "outputId": "3e40f100-e8e1-4824-a0d7-6ba1203ea622"
      },
      "outputs": [
        {
          "output_type": "stream",
          "name": "stdout",
          "text": [
            "Please enter your own user_id : 559\n",
            "FUNOC Eyebrow Smooth Waterproof Cosmetic Beauty Makeup Eyebrow Pen Pencil With Brush None 3\n"
          ]
        },
        {
          "output_type": "display_data",
          "data": {
            "text/plain": [
              "<PIL.Image.Image image mode=RGB size=100x100>"
            ],
            "image/png": "[encoded data removed]",
            "image/jpeg": "[encoded data removed]"
          },
          "metadata": {}
        }
      ],
      "source": [
        "id = input(\"Please enter your own user_id : \")\n",
        "id_int = int(id)\n",
        "review_parent_asin = found_asin(id_int)\n",
        "#Get the product information that user have already bought\n",
        "already_buy_data = getinfo_review(metadata,review_parent_asin)\n",
        "image_show(already_buy_data)\n",
        "#Get the product details that user have already bought\n",
        "user_inform_data = found_data(review_parent_asin)\n",
        "pred_data = metadata[metadata['details'].str.contains(user_inform_data)]"
      ]
    },
    {
      "cell_type": "code",
      "execution_count": 24,
      "metadata": {
        "id": "mnHnnjbPQtnp",
        "colab": {
          "base_uri": "https://localhost:8080/",
          "height": 639
        },
        "outputId": "00a0beff-5f73-4335-ff80-a18895051ad9"
      },
      "outputs": [
        {
          "output_type": "stream",
          "name": "stdout",
          "text": [
            "These products have similarity and details to the recently purchased products.\n",
            "1 Tattoo Eyebrow Pen Liquid Eyebrow Pencil with Fork Tip Long-lasting Waterproof Brow Eyebrow Eyeliner Pencil Brow Gel for Creating Natural Eyes Makeup Drawing Eyebrow and Eyeliner (Brown) 3.2 None {\"Brand\": \"UNIQUE2U\", \"Item Form\": \"Pencil\", \"Special Feature\": \"Long Lasting\", \"Material Feature\": \"Natural\", \"Skin Type\": \"All\", \"Is Discontinued By Manufacturer\": \"No\", \"Package Dimensions\": \"4.8 x 0.79 x 0.55 inches; 0.63 Ounces\"}\n"
          ]
        },
        {
          "output_type": "display_data",
          "data": {
            "text/plain": [
              "<PIL.Image.Image image mode=RGB size=100x100>"
            ],
            "image/png": "[encoded data removed]",
            "image/jpeg": "[encoded data removed]"
          },
          "metadata": {}
        },
        {
          "output_type": "stream",
          "name": "stdout",
          "text": [
            "2 Yuxuan Eyebrow Tattoo Pen Microblading Eyebrow Pencil with a Micro-Fork Tip Applicator Creates Natural Looking Brows Effortlessly and Stays on All Day(1 pc/set,Reddish Brown) 3.2 None {\"Item Form\": \"Pencil\", \"Special Feature\": \"Natural Looking\", \"Material Feature\": \"Natural\", \"Skin Type\": \"All\", \"Specialty\": \"Long Lasting\", \"Is Discontinued By Manufacturer\": \"No\", \"Package Dimensions\": \"6.6 x 2.5 x 0.4 inches; 0.81 Ounces\", \"UPC\": \"738770594107\"}\n"
          ]
        },
        {
          "output_type": "display_data",
          "data": {
            "text/plain": [
              "<PIL.Image.Image image mode=RGB size=100x100>"
            ],
            "image/png": "[encoded data removed]",
            "image/jpeg": "[encoded data removed]"
          },
          "metadata": {}
        },
        {
          "output_type": "stream",
          "name": "stdout",
          "text": [
            "3 Yuxuan Eyebrow Tattoo Pen Microblading Eyebrow Pencil with a Micro-Fork Tip Applicator Creates Natural Looking Brows Effortlessly and Stays on All Day(1 pcs/set.Chestnut) 3.5 None {\"Item Form\": \"Pencil\", \"Special Feature\": \"Natural Looking\", \"Material Feature\": \"Natural\", \"Skin Type\": \"All\", \"Specialty\": \"Long Lasting\", \"Is Discontinued By Manufacturer\": \"No\", \"Product Dimensions\": \"0.8 x 1 x 4 inches; 0.35 Ounces\", \"UPC\": \"738770594169\"}\n"
          ]
        },
        {
          "output_type": "display_data",
          "data": {
            "text/plain": [
              "<PIL.Image.Image image mode=RGB size=100x100>"
            ],
            "image/png": "[encoded data removed]",
            "image/jpeg": "[encoded data removed]"
          },
          "metadata": {}
        },
        {
          "output_type": "stream",
          "name": "stdout",
          "text": [
            "4 3D Eyebrow Pencil Durable Eyebrow Pencil with Soft Brush Girl Eyebrow Shaping Pencil light brown 4.4 None {\"Brand\": \"Eyebrow Pencil\", \"Item Form\": \"Pencil\", \"Material Feature\": \"Natural\", \"Product Benefits\": \"Softening\", \"Skin Type\": \"All\", \"Package Dimensions\": \"5.5 x 1.1 x 0.2 inches; 0.63 Ounces\", \"Item model number\": \"SJOO-MB\"}\n"
          ]
        },
        {
          "output_type": "display_data",
          "data": {
            "text/plain": [
              "<PIL.Image.Image image mode=RGB size=100x100>"
            ],
            "image/png": "[encoded data removed]",
            "image/jpeg": "[encoded data removed]"
          },
          "metadata": {}
        },
        {
          "output_type": "stream",
          "name": "stdout",
          "text": [
            "5 HIROCK 3 in 1 eyebrow pencil Long lasting and Waterproof Professional Makeup Auto Eyebrow Pencil (04# Gray) 4.0 None {\"Brand\": \"HIROCK\", \"Item Form\": \"Pencil\", \"Special Feature\": \"Waterproof, Long Lasting\", \"Material Feature\": \"Natural\", \"Product Benefits\": \"Long Lasting\", \"Is Discontinued By Manufacturer\": \"No\", \"Package Dimensions\": \"6.89 x 0.87 x 0.71 inches; 2.12 Ounces\", \"Item model number\": \"MB-3S\", \"UPC\": \"718979017959\"}\n"
          ]
        },
        {
          "output_type": "display_data",
          "data": {
            "text/plain": [
              "<PIL.Image.Image image mode=RGB size=100x100>"
            ],
            "image/png": "[encoded data removed]",
            "image/jpeg": "[encoded data removed]"
          },
          "metadata": {}
        }
      ],
      "source": [
        "rank = 1\n",
        "result_list = recommendation_model(review_parent_asin,pred_data,cs_result)\n",
        "for item in result_list:\n",
        "    #Get the product information that recommend based on cosine similarity\n",
        "    product_item = int(item[0])\n",
        "    title = metadata[metadata['labeling_list'] == product_item]['title'].values[0]\n",
        "    data = getinfo_new(metadata,rank,title)\n",
        "    image_show(data)\n",
        "    rank = rank+1"
      ]
    }
  ],
  "metadata": {
    "colab": {
      "provenance": [],
      "authorship_tag": "ABX9TyMwtSCTphpUctrHoUOIru7n",
      "include_colab_link": true
    },
    "kernelspec": {
      "display_name": "Python 3",
      "name": "python3"
    },
    "language_info": {
      "name": "python"
    }
  },
  "nbformat": 4,
  "nbformat_minor": 0
}