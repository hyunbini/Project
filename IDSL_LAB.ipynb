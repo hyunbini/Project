{
  "nbformat": 4,
  "nbformat_minor": 0,
  "metadata": {
    "colab": {
      "provenance": [],
      "authorship_tag": "ABX9TyM7b2eRHuQ+lMYEm1rOABoL",
      "include_colab_link": true
    },
    "kernelspec": {
      "name": "python3",
      "display_name": "Python 3"
    },
    "language_info": {
      "name": "python"
    }
  },
  "cells": [
    {
      "cell_type": "markdown",
      "metadata": {
        "id": "view-in-github",
        "colab_type": "text"
      },
      "source": [
        "<a href=\"https://colab.research.google.com/github/hyunbini/Project/blob/main/IDSL_LAB.ipynb\" target=\"_parent\"><img src=\"https://colab.research.google.com/assets/colab-badge.svg\" alt=\"Open In Colab\"/></a>"
      ]
    },
    {
      "cell_type": "markdown",
      "source": [
        "Import Library"
      ],
      "metadata": {
        "id": "tzS3GM533A6q"
      }
    },
    {
      "cell_type": "code",
      "execution_count": null,
      "metadata": {
        "id": "uohUPTt21gIL",
        "colab": {
          "base_uri": "https://localhost:8080/"
        },
        "outputId": "bc01ca4b-cd21-4ade-a33a-2e4a137aa5aa"
      },
      "outputs": [
        {
          "output_type": "stream",
          "name": "stdout",
          "text": [
            "Mounted at /content/drive\n"
          ]
        }
      ],
      "source": [
        "import pandas as pd\n",
        "import numpy as np\n",
        "import re\n",
        "import seaborn as sns\n",
        "import matplotlib.pyplot as plt\n",
        "from google.colab import drive\n",
        "drive.mount('/content/drive')\n",
        "from numpy import dot\n",
        "from numpy.linalg import norm\n",
        "from sklearn.metrics.pairwise import cosine_similarity\n",
        "from sklearn.metrics import mean_squared_error"
      ]
    },
    {
      "cell_type": "markdown",
      "source": [
        "Function used in code"
      ],
      "metadata": {
        "id": "QLQ8-8YPF33X"
      }
    },
    {
      "cell_type": "code",
      "source": [
        "def check_nan(file):\n",
        "  result = file.isnull().sum()\n",
        "  return result"
      ],
      "metadata": {
        "id": "S2PrkRjtFNak"
      },
      "execution_count": null,
      "outputs": []
    },
    {
      "cell_type": "code",
      "source": [
        "#Function that extracts user_id who wrote one or more reviews\n",
        "#input : series(pandas dataframe)\n",
        "#output : result(list)\n",
        "def make_list(series1):\n",
        "  result = []\n",
        "  for i in range(series1.size):\n",
        "    #Add user_id who have written reviews more than once to the new list\n",
        "    if series1[i]>1:\n",
        "      result.append(series1.index[i])\n",
        "  return result"
      ],
      "metadata": {
        "id": "dtYL-stfC_0J"
      },
      "execution_count": null,
      "outputs": []
    },
    {
      "cell_type": "code",
      "source": [
        "#Function that erases unnecessary characters and makes a list of only the necessary data\n",
        "#input : list1(list)\n",
        "#output : result_listset(list)\n",
        "def remove_special(list1):\n",
        "  #Change list to string\n",
        "  for i in range(len(list1)):\n",
        "    list1[i] = str(list1[i])\n",
        "  listset_str = ' '.join(list1)\n",
        "  #Remove Special characters to space\n",
        "  listset_str = re.sub('[-=+,#/\\?:^.@*\\\"※~ㆍ!』‘|\\(\\)\\[\\]`\\'…》\\”\\“\\’·]', \"\",listset_str)\n",
        "  #Split the data by space\n",
        "  result_listset = listset_str.split(' ')\n",
        "  return result_listset"
      ],
      "metadata": {
        "id": "N5SZ5jb6oimj"
      },
      "execution_count": null,
      "outputs": []
    },
    {
      "cell_type": "code",
      "source": [
        "#Function that labels data composed of complex characters numerically based on ascending order\\\n",
        "#input : list1(list to be replaced), list2(reference list), dic(dictionary to store the values of reference list and its unique labeling numbers)\n",
        "#output : list_df(Dataframe made from a labeled list)\n",
        "def labeling(list1,list2,dic):\n",
        "  i = 0\n",
        "  for data in list1:\n",
        "    if data in list2:\n",
        "      if data in dic.keys():\n",
        "        list1[i] = dic[data]\n",
        "      else:\n",
        "        dic[data] = i\n",
        "        list1[i] = i\n",
        "      i = i+1\n",
        "    else:\n",
        "      list1[i] = i\n",
        "      i = i+1\n",
        "  for y in range(len(list1)):\n",
        "    list1[y] = list1[y]+1\n",
        "  list_df = pd.DataFrame(data=list1, columns= ['label_id'])\n",
        "  return list_df"
      ],
      "metadata": {
        "id": "z79IJmG3RWZr"
      },
      "execution_count": null,
      "outputs": []
    },
    {
      "cell_type": "markdown",
      "source": [
        "Import Data and Remove NaN Value and Unuseful Columns\n",
        "\n"
      ],
      "metadata": {
        "id": "thldBraK3Dg1"
      }
    },
    {
      "cell_type": "code",
      "source": [
        "meta_json = pd.read_json('/content/drive/MyDrive/IDSL Recruitment/[Data 1] Eng - Review Analysis/metadata.json')\n",
        "review_json = pd.read_json('/content/drive/MyDrive/IDSL Recruitment/[Data 1] Eng - Review Analysis/reviews.json')\n",
        "print(check_nan(meta_json))\n",
        "print(check_nan(review_json))"
      ],
      "metadata": {
        "colab": {
          "base_uri": "https://localhost:8080/"
        },
        "id": "YvRzMqFw3GT5",
        "outputId": "c4bc5a84-e57e-49d5-a22d-726ed9ea1eed"
      },
      "execution_count": null,
      "outputs": [
        {
          "output_type": "stream",
          "name": "stdout",
          "text": [
            "main_category          0\n",
            "title                  0\n",
            "average_rating         0\n",
            "rating_number          0\n",
            "features               0\n",
            "description            0\n",
            "price                  0\n",
            "images                 0\n",
            "videos                 0\n",
            "store               1105\n",
            "categories             0\n",
            "details                0\n",
            "parent_asin            0\n",
            "bought_together    11257\n",
            "subtitle           11257\n",
            "author             11257\n",
            "dtype: int64\n",
            "rating               0\n",
            "title                0\n",
            "text                 0\n",
            "images               0\n",
            "asin                 0\n",
            "parent_asin          0\n",
            "user_id              0\n",
            "timestamp            0\n",
            "helpful_vote         0\n",
            "verified_purchase    0\n",
            "dtype: int64\n"
          ]
        }
      ]
    },
    {
      "cell_type": "code",
      "source": [
        "metadata = meta_json.drop(['rating_number','categories','videos', 'details', 'bought_together', 'subtitle', 'author'],axis = 1)\n",
        "print(metadata.head())\n",
        "review = review_json.drop(['title', 'text','images','timestamp','user_id','helpful_vote','verified_purchase'],axis=1)\n",
        "print(review.head())"
      ],
      "metadata": {
        "id": "29yeHad3C4HZ",
        "colab": {
          "base_uri": "https://localhost:8080/"
        },
        "outputId": "259fd5cd-b17b-47eb-ae45-7c8a23c78cd5"
      },
      "execution_count": null,
      "outputs": [
        {
          "output_type": "stream",
          "name": "stdout",
          "text": [
            "  main_category                                              title  \\\n",
            "0    All Beauty  Howard LC0008 Leather Conditioner, 8-Ounce (4-...   \n",
            "1    All Beauty  Lurrose 100Pcs Full Cover Fake Toenails Artifi...   \n",
            "2    All Beauty                         Gold extatic Musk EDT 90ml   \n",
            "3    All Beauty  Brand New Headrang Face line Contour V-line Ma...   \n",
            "4    All Beauty  7 Packs Deep Wave Crochet Hair 22 Inch Deep wa...   \n",
            "\n",
            "   average_rating                                           features  \\\n",
            "0             4.8                                                 []   \n",
            "1             3.7  [The false toenails are durable with perfect l...   \n",
            "2             3.7  [Extatic Balmain Gold Musk By Balmain Edt Spra...   \n",
            "3             3.3                                                 []   \n",
            "4             3.4                                                 []   \n",
            "\n",
            "                                         description  price  \\\n",
            "0                                                 []   None   \n",
            "1  [Description, The false toenails are durable w...   6.99   \n",
            "2             [Edt spray 3 oz design house: balmain]  86.95   \n",
            "3                                                 []   79.5   \n",
            "4                                                 []   None   \n",
            "\n",
            "                                              images            store  \\\n",
            "0  {'hi_res': [None, 'https://m.media-amazon.com/...  Howard Products   \n",
            "1  {'hi_res': ['https://m.media-amazon.com/images...          Lurrose   \n",
            "2  {'hi_res': ['https://m.media-amazon.com/images...          Balmain   \n",
            "3  {'hi_res': ['https://m.media-amazon.com/images...             None   \n",
            "4  {'hi_res': ['https://m.media-amazon.com/images...     Yun Mei Hair   \n",
            "\n",
            "  parent_asin  \n",
            "0  B01CUPMQZE  \n",
            "1  B07G9GWFSM  \n",
            "2  B01ERJEGS6  \n",
            "3  B06XJZ7955  \n",
            "4  B07Z818MLY  \n",
            "   rating        asin parent_asin\n",
            "0       5  B07GHPCT6T  B07GHPCT6T\n",
            "1       5  B082QX2HP6  B082QX2HP6\n",
            "2       2  B07K8VTT6M  B07K8VTT6M\n",
            "3       1  B01M5KNSQN  B01M5KNSQN\n",
            "4       5  B081GCFHPG  B081GCFHPG\n"
          ]
        }
      ]
    },
    {
      "cell_type": "markdown",
      "source": [
        "Extracting duplicate data and labeling of the user_id value to be used for prediction"
      ],
      "metadata": {
        "id": "sP1inIVWC32n"
      }
    },
    {
      "cell_type": "code",
      "source": [
        "id = review_json['user_id']\n",
        "print(\"The total number of reviews is\", id.size)\n",
        "id_count = (id.value_counts())\n",
        "print(\"The user who wrote the review is\", id_count.size)\n",
        "dup_ind = make_list(id_count)"
      ],
      "metadata": {
        "colab": {
          "base_uri": "https://localhost:8080/"
        },
        "id": "Hg2ENOv0jay9",
        "outputId": "bf756540-348b-4447-bad8-e2dc1ca271d4"
      },
      "execution_count": null,
      "outputs": [
        {
          "output_type": "stream",
          "name": "stdout",
          "text": [
            "The total number of reviews is 70883\n",
            "The user who wrote the review is 68934\n"
          ]
        },
        {
          "output_type": "stream",
          "name": "stderr",
          "text": [
            "<ipython-input-5-17c3463facae>:8: FutureWarning: Series.__getitem__ treating keys as positions is deprecated. In a future version, integer keys will always be treated as labels (consistent with DataFrame behavior). To access a value by position, use `ser.iloc[pos]`\n",
            "  if series1[i]>1:\n"
          ]
        }
      ]
    },
    {
      "cell_type": "code",
      "source": [
        "new_user_id = id.to_list()\n",
        "result_dup_id = remove_special(dup_ind)\n",
        "result_user_id = remove_special(new_user_id)\n",
        "label_dic = {}\n",
        "label_df = labeling(result_user_id,result_dup_id,label_dic)"
      ],
      "metadata": {
        "id": "PA1Qa0pdjbHD"
      },
      "execution_count": null,
      "outputs": []
    },
    {
      "cell_type": "markdown",
      "source": [
        "Data Visualization"
      ],
      "metadata": {
        "id": "pQr58NfbEbh4"
      }
    },
    {
      "cell_type": "code",
      "source": [
        "asin = review['asin']\n",
        "asin_parent = review['parent_asin']\n",
        "plt.plot(asin,asin_parent, 'b+')\n",
        "plt.show()"
      ],
      "metadata": {
        "id": "UfYsHUBWEe1Q",
        "colab": {
          "base_uri": "https://localhost:8080/",
          "height": 430
        },
        "outputId": "921ace35-d373-40e4-fdcb-00af1d513b92"
      },
      "execution_count": null,
      "outputs": [
        {
          "output_type": "display_data",
          "data": {
            "text/plain": [
              "<Figure size 640x480 with 1 Axes>"
            ],
            "image/png": "[encoded data removed]"
          },
          "metadata": {}
        }
      ]
    },
    {
      "cell_type": "markdown",
      "source": [
        "One-hot encoding"
      ],
      "metadata": {
        "id": "llW9TZU9MGUb"
      }
    },
    {
      "cell_type": "code",
      "source": [
        "#https://naomy-gomes.medium.com/the-cosine-similarity-and-its-use-in-recommendation-systems-cb2ebd811ce1\n",
        "#https://www.kaggle.com/code/muhammadayman/recommendation-system-using-cosine-similarity\n",
        "\n",
        "def ohe(df, enc_col):\n",
        "    '''\n",
        "    One hot encodes specified columns and adds them back\n",
        "    onto the input dataframe\n",
        "    '''\n",
        "\n",
        "    ohe_df = pd.get_dummies(df[enc_col])\n",
        "    ohe_df.reset_index(drop = True, inplace = True)\n",
        "    return pd.concat([df, ohe_df], axis = 1)\n",
        "\n",
        "print(ohe(metadata, 'parent_asin'))\n",
        "print(ohe(review, 'parent_asin'))"
      ],
      "metadata": {
        "id": "pZuzoGs-MF4g"
      },
      "execution_count": null,
      "outputs": []
    },
    {
      "cell_type": "markdown",
      "source": [
        "Modeling"
      ],
      "metadata": {
        "id": "DuCUQkRIjbbh"
      }
    },
    {
      "cell_type": "code",
      "source": [
        "def cos_sim(A, B):\n",
        "  return dot(A, B)/(norm(A)*norm(B))\n",
        "def recommend(book_id, owner_id, df):\n",
        "    \"\"\"\n",
        "    Content based recommendations.\n",
        "    Calls the cosine similarity function to calculate similarities and returns the\n",
        "    most similar books, excluding the ones listed by the user\n",
        "    \"\"\"\n",
        "    book_id = book_id - 1 #because it starts from zero in the csv, while the ids in the database start from 1\n",
        "\n",
        "    # calculate similarity of input book_id vector and all other vectors in the table\n",
        "    inputVec = df.loc[book_id].values #gets values of the book_id inputed\n",
        "    df['sim']= df.apply(lambda x: cos_sim(inputVec,x.values), axis=1)  #goes through all the book vectors in the table\n",
        "                                                         #and creates a column containing the values of the cosine similarity\n",
        "\n",
        "    df_rec = df.nlargest(10, columns='sim')#gets only the 10 most similars (10 bigger values of the cosine similarity)\n",
        "    df_final = df_rec.loc[df['owner_id'] != owner_id]#excludes books already listed by the user\n",
        "    # returns up to 10 similar books that the user didnt list already\n",
        "    return df_final"
      ],
      "metadata": {
        "id": "xOu6-veZjekk"
      },
      "execution_count": null,
      "outputs": []
    },
    {
      "cell_type": "markdown",
      "source": [
        "Prediction"
      ],
      "metadata": {
        "id": "5CHFa5GrMUus"
      }
    }
  ]
}