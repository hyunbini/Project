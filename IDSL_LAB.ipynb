{
  "nbformat": 4,
  "nbformat_minor": 0,
  "metadata": {
    "colab": {
      "provenance": [],
      "authorship_tag": "ABX9TyNPP3YbwdDcA0qNNKBwfJBf",
      "include_colab_link": true
    },
    "kernelspec": {
      "name": "python3",
      "display_name": "Python 3"
    },
    "language_info": {
      "name": "python"
    }
  },
  "cells": [
    {
      "cell_type": "markdown",
      "metadata": {
        "id": "view-in-github",
        "colab_type": "text"
      },
      "source": [
        "<a href=\"https://colab.research.google.com/github/hyunbini/Project/blob/main/IDSL_LAB.ipynb\" target=\"_parent\"><img src=\"https://colab.research.google.com/assets/colab-badge.svg\" alt=\"Open In Colab\"/></a>"
      ]
    },
    {
      "cell_type": "markdown",
      "source": [
        "Import Library"
      ],
      "metadata": {
        "id": "tzS3GM533A6q"
      }
    },
    {
      "cell_type": "code",
      "execution_count": 77,
      "metadata": {
        "id": "uohUPTt21gIL",
        "colab": {
          "base_uri": "https://localhost:8080/"
        },
        "outputId": "71b600e3-1171-4ad3-a6fc-d81de0c4332d"
      },
      "outputs": [
        {
          "output_type": "stream",
          "name": "stdout",
          "text": [
            "Drive already mounted at /content/drive; to attempt to forcibly remount, call drive.mount(\"/content/drive\", force_remount=True).\n"
          ]
        }
      ],
      "source": [
        "import pandas as pd\n",
        "import numpy as np\n",
        "import matplotlib.pyplot as plt\n",
        "import re\n",
        "from google.colab import drive\n",
        "drive.mount('/content/drive')\n",
        "import nltk\n",
        "#nltk.download('stopwords')\n",
        "from nltk.corpus import stopwords\n",
        "stop = stopwords.words('english')\n",
        "from sklearn.feature_extraction.text import CountVectorizer\n",
        "from sklearn.metrics.pairwise import cosine_similarity\n",
        "import cv2\n",
        "import requests"
      ]
    },
    {
      "cell_type": "markdown",
      "source": [
        "Function used in code"
      ],
      "metadata": {
        "id": "QLQ8-8YPF33X"
      }
    },
    {
      "cell_type": "code",
      "source": [
        "def check_nan(file):\n",
        "  result = file.isnull().sum()\n",
        "  return result"
      ],
      "metadata": {
        "id": "S2PrkRjtFNak"
      },
      "execution_count": 78,
      "outputs": []
    },
    {
      "cell_type": "code",
      "source": [
        "#Function that extracts user_id who wrote one or more reviews\n",
        "#input : series(pandas dataframe)\n",
        "#output : result(list)\n",
        "def make_list(series1):\n",
        "  result = []\n",
        "  for i in range(series1.size):\n",
        "    #Add user_id who have written reviews more than once to the new list\n",
        "    if series1[i]>1:\n",
        "      result.append(series1.index[i])\n",
        "  return result"
      ],
      "metadata": {
        "id": "dtYL-stfC_0J"
      },
      "execution_count": 79,
      "outputs": []
    },
    {
      "cell_type": "code",
      "source": [
        "#Function that erases unnecessary characters and makes a list of only the necessary data\n",
        "#input : list1(list)\n",
        "#output : result_listset(list)\n",
        "def remove_special(list1):\n",
        "  #Change list to string\n",
        "  for i in range(len(list1)):\n",
        "    list1[i] = str(list1[i])\n",
        "  listset_str = ' '.join(list1)\n",
        "  #Remove Special characters to space\n",
        "  listset_str = re.sub('[-=+,#/\\?:^.@*\\\"※~ㆍ!』‘|\\(\\)\\[\\]`\\'…》\\”\\“\\’·]', \"\",listset_str)\n",
        "  #Split the data by space\n",
        "  result_listset = listset_str.split(' ')\n",
        "  return result_listset"
      ],
      "metadata": {
        "id": "N5SZ5jb6oimj"
      },
      "execution_count": 80,
      "outputs": []
    },
    {
      "cell_type": "code",
      "source": [
        "#Function that labels data composed of complex characters numerically based on ascending order\\\n",
        "#input : list1(list to be replaced), list2(reference list), dic(dictionary to store the values of reference list and its unique labeling numbers)\n",
        "#output : list_df(Dataframe made from a labeled list)\n",
        "def labeling_user_id(list1,list2,dic):\n",
        "  i = 0\n",
        "  for data in list1:\n",
        "    if data in list2:\n",
        "      if data in dic.keys():\n",
        "        list1[i] = dic[data]\n",
        "      else:\n",
        "        dic[data] = i\n",
        "        list1[i] = i\n",
        "      i = i+1\n",
        "    else:\n",
        "      list1[i] = i\n",
        "      i = i+1\n",
        "  for y in range(len(list1)):\n",
        "    list1[y] = list1[y]+1\n",
        "  list_df = pd.DataFrame(data=list1, columns= ['labeling_user_id'])\n",
        "  return list_df"
      ],
      "metadata": {
        "id": "z79IJmG3RWZr"
      },
      "execution_count": 81,
      "outputs": []
    },
    {
      "cell_type": "code",
      "source": [
        "def make_label_list(dataset_name):\n",
        "  emptylist = []\n",
        "  for i in range(len(dataset_name)):\n",
        "    emptylist.append(i)\n",
        "    i = i+1\n",
        "  list_df_1 = pd.DataFrame(data=emptylist, columns=['labeling_list'])\n",
        "  return list_df_1"
      ],
      "metadata": {
        "id": "8dL5EgrghfPQ"
      },
      "execution_count": 213,
      "outputs": []
    },
    {
      "cell_type": "markdown",
      "source": [
        "Import Data and Remove NaN Value and Unuseful Columns\n",
        "\n"
      ],
      "metadata": {
        "id": "thldBraK3Dg1"
      }
    },
    {
      "cell_type": "code",
      "source": [
        "meta_json = pd.read_json('/content/drive/MyDrive/IDSL Recruitment/[Data 1] Eng - Review Analysis/metadata.json')\n",
        "review_json = pd.read_json('/content/drive/MyDrive/IDSL Recruitment/[Data 1] Eng - Review Analysis/reviews.json')\n",
        "print(meta_json.head())\n",
        "print(review_json.head())\n",
        "print(check_nan(meta_json))\n",
        "print(check_nan(review_json))"
      ],
      "metadata": {
        "colab": {
          "base_uri": "https://localhost:8080/"
        },
        "id": "YvRzMqFw3GT5",
        "outputId": "8d0b572b-cab5-4c85-e3e0-41e16586ce8a"
      },
      "execution_count": 83,
      "outputs": [
        {
          "output_type": "stream",
          "name": "stdout",
          "text": [
            "  main_category                                              title  \\\n",
            "0    All Beauty  Howard LC0008 Leather Conditioner, 8-Ounce (4-...   \n",
            "1    All Beauty  Lurrose 100Pcs Full Cover Fake Toenails Artifi...   \n",
            "2    All Beauty                         Gold extatic Musk EDT 90ml   \n",
            "3    All Beauty  Brand New Headrang Face line Contour V-line Ma...   \n",
            "4    All Beauty  7 Packs Deep Wave Crochet Hair 22 Inch Deep wa...   \n",
            "\n",
            "   average_rating  rating_number  \\\n",
            "0             4.8             10   \n",
            "1             3.7             35   \n",
            "2             3.7              2   \n",
            "3             3.3              4   \n",
            "4             3.4             10   \n",
            "\n",
            "                                            features  \\\n",
            "0                                                 []   \n",
            "1  [The false toenails are durable with perfect l...   \n",
            "2  [Extatic Balmain Gold Musk By Balmain Edt Spra...   \n",
            "3                                                 []   \n",
            "4                                                 []   \n",
            "\n",
            "                                         description  price  \\\n",
            "0                                                 []   None   \n",
            "1  [Description, The false toenails are durable w...   6.99   \n",
            "2             [Edt spray 3 oz design house: balmain]  86.95   \n",
            "3                                                 []   79.5   \n",
            "4                                                 []   None   \n",
            "\n",
            "                                              images  \\\n",
            "0  {'hi_res': [None, 'https://m.media-amazon.com/...   \n",
            "1  {'hi_res': ['https://m.media-amazon.com/images...   \n",
            "2  {'hi_res': ['https://m.media-amazon.com/images...   \n",
            "3  {'hi_res': ['https://m.media-amazon.com/images...   \n",
            "4  {'hi_res': ['https://m.media-amazon.com/images...   \n",
            "\n",
            "                                    videos            store categories  \\\n",
            "0  {'title': [], 'url': [], 'user_id': []}  Howard Products         []   \n",
            "1  {'title': [], 'url': [], 'user_id': []}          Lurrose         []   \n",
            "2  {'title': [], 'url': [], 'user_id': []}          Balmain         []   \n",
            "3  {'title': [], 'url': [], 'user_id': []}             None         []   \n",
            "4  {'title': [], 'url': [], 'user_id': []}     Yun Mei Hair         []   \n",
            "\n",
            "                                             details parent_asin  \\\n",
            "0  {\"Package Dimensions\": \"7.1 x 5.5 x 3 inches; ...  B01CUPMQZE   \n",
            "1  {\"Color\": \"As Shown\", \"Size\": \"Large\", \"Materi...  B07G9GWFSM   \n",
            "2  {\"Brand\": \"Balmain\", \"Item Form\": \"Spray\", \"It...  B01ERJEGS6   \n",
            "3  {\"Is Discontinued By Manufacturer\": \"No\", \"Pac...  B06XJZ7955   \n",
            "4  {\"Brand\": \"Yun Mei Hair\", \"Material\": \"Synthet...  B07Z818MLY   \n",
            "\n",
            "   bought_together  subtitle  author  \n",
            "0              NaN       NaN     NaN  \n",
            "1              NaN       NaN     NaN  \n",
            "2              NaN       NaN     NaN  \n",
            "3              NaN       NaN     NaN  \n",
            "4              NaN       NaN     NaN  \n",
            "   rating                                              title  \\\n",
            "0       5  Quality hair iron, works perfectly to straight...   \n",
            "1       5                                       nice sized !   \n",
            "2       2                    I'll stick to my 5 blade razor.   \n",
            "3       1                                       Don’t bother   \n",
            "4       5                                Really nice quality   \n",
            "\n",
            "                                                text images        asin  \\\n",
            "0  This is a great hair straightener. Heats up qu...     []  B07GHPCT6T   \n",
            "1  i had a small one  that just got destroyed  th...     []  B082QX2HP6   \n",
            "2  I think I need to stick with my 5 blade razor....     []  B07K8VTT6M   \n",
            "3  Normally I like NYX products but not this one....     []  B01M5KNSQN   \n",
            "4  These are not what I was expecting. They are s...     []  B081GCFHPG   \n",
            "\n",
            "  parent_asin                       user_id               timestamp  \\\n",
            "0  B07GHPCT6T  AFSKPY37N3C43SOI5IEXEK5JSIYA 2020-08-23 19:54:36.613   \n",
            "1  B082QX2HP6  AHGAOIZVODNHYMNCBV4DECZH42UQ 2020-03-21 14:04:53.853   \n",
            "2  B07K8VTT6M  AGC3Q6IXOVLTTDMS4Q55FPYUF6FQ 2020-05-17 14:00:40.497   \n",
            "3  B01M5KNSQN  AFETVW7S5M4LVJ7GTWPCKT7S3YBQ 2022-04-10 23:42:11.604   \n",
            "4  B081GCFHPG  AE5DIA2HDWBPNGBO2FXN2PF4NQJA 2021-06-12 01:02:14.108   \n",
            "\n",
            "   helpful_vote  verified_purchase  \n",
            "0             0              False  \n",
            "1             0               True  \n",
            "2             0               True  \n",
            "3             0               True  \n",
            "4             0               True  \n",
            "main_category          0\n",
            "title                  0\n",
            "average_rating         0\n",
            "rating_number          0\n",
            "features               0\n",
            "description            0\n",
            "price                  0\n",
            "images                 0\n",
            "videos                 0\n",
            "store               1105\n",
            "categories             0\n",
            "details                0\n",
            "parent_asin            0\n",
            "bought_together    11257\n",
            "subtitle           11257\n",
            "author             11257\n",
            "dtype: int64\n",
            "rating               0\n",
            "title                0\n",
            "text                 0\n",
            "images               0\n",
            "asin                 0\n",
            "parent_asin          0\n",
            "user_id              0\n",
            "timestamp            0\n",
            "helpful_vote         0\n",
            "verified_purchase    0\n",
            "dtype: int64\n"
          ]
        }
      ]
    },
    {
      "cell_type": "code",
      "source": [
        "metadata = meta_json.drop(['rating_number','categories','videos', 'bought_together', 'subtitle', 'author'],axis = 1)\n",
        "print(metadata.head())\n",
        "review = review_json.drop(['title', 'text','images','timestamp','user_id','helpful_vote','verified_purchase'],axis=1)\n",
        "print(review.head())"
      ],
      "metadata": {
        "id": "29yeHad3C4HZ",
        "colab": {
          "base_uri": "https://localhost:8080/"
        },
        "outputId": "00813dc8-f52d-4acd-8aa6-7eaa94e0a097"
      },
      "execution_count": 84,
      "outputs": [
        {
          "output_type": "stream",
          "name": "stdout",
          "text": [
            "  main_category                                              title  \\\n",
            "0    All Beauty  Howard LC0008 Leather Conditioner, 8-Ounce (4-...   \n",
            "1    All Beauty  Lurrose 100Pcs Full Cover Fake Toenails Artifi...   \n",
            "2    All Beauty                         Gold extatic Musk EDT 90ml   \n",
            "3    All Beauty  Brand New Headrang Face line Contour V-line Ma...   \n",
            "4    All Beauty  7 Packs Deep Wave Crochet Hair 22 Inch Deep wa...   \n",
            "\n",
            "   average_rating                                           features  \\\n",
            "0             4.8                                                 []   \n",
            "1             3.7  [The false toenails are durable with perfect l...   \n",
            "2             3.7  [Extatic Balmain Gold Musk By Balmain Edt Spra...   \n",
            "3             3.3                                                 []   \n",
            "4             3.4                                                 []   \n",
            "\n",
            "                                         description  price  \\\n",
            "0                                                 []   None   \n",
            "1  [Description, The false toenails are durable w...   6.99   \n",
            "2             [Edt spray 3 oz design house: balmain]  86.95   \n",
            "3                                                 []   79.5   \n",
            "4                                                 []   None   \n",
            "\n",
            "                                              images            store  \\\n",
            "0  {'hi_res': [None, 'https://m.media-amazon.com/...  Howard Products   \n",
            "1  {'hi_res': ['https://m.media-amazon.com/images...          Lurrose   \n",
            "2  {'hi_res': ['https://m.media-amazon.com/images...          Balmain   \n",
            "3  {'hi_res': ['https://m.media-amazon.com/images...             None   \n",
            "4  {'hi_res': ['https://m.media-amazon.com/images...     Yun Mei Hair   \n",
            "\n",
            "                                             details parent_asin  \n",
            "0  {\"Package Dimensions\": \"7.1 x 5.5 x 3 inches; ...  B01CUPMQZE  \n",
            "1  {\"Color\": \"As Shown\", \"Size\": \"Large\", \"Materi...  B07G9GWFSM  \n",
            "2  {\"Brand\": \"Balmain\", \"Item Form\": \"Spray\", \"It...  B01ERJEGS6  \n",
            "3  {\"Is Discontinued By Manufacturer\": \"No\", \"Pac...  B06XJZ7955  \n",
            "4  {\"Brand\": \"Yun Mei Hair\", \"Material\": \"Synthet...  B07Z818MLY  \n",
            "   rating        asin parent_asin\n",
            "0       5  B07GHPCT6T  B07GHPCT6T\n",
            "1       5  B082QX2HP6  B082QX2HP6\n",
            "2       2  B07K8VTT6M  B07K8VTT6M\n",
            "3       1  B01M5KNSQN  B01M5KNSQN\n",
            "4       5  B081GCFHPG  B081GCFHPG\n"
          ]
        }
      ]
    },
    {
      "cell_type": "markdown",
      "source": [
        "Extracting duplicate data and labeling of the user_id value to be used for prediction"
      ],
      "metadata": {
        "id": "sP1inIVWC32n"
      }
    },
    {
      "cell_type": "code",
      "source": [
        "id = review_json['user_id']\n",
        "print(\"The total number of reviews is\", id.size)\n",
        "id_count = (id.value_counts())\n",
        "print(\"The user who wrote the review is\", id_count.size)\n",
        "dup_ind = make_list(id_count)"
      ],
      "metadata": {
        "colab": {
          "base_uri": "https://localhost:8080/"
        },
        "id": "Hg2ENOv0jay9",
        "outputId": "833c53f0-75f7-4340-d6cc-13bfdea6cb46"
      },
      "execution_count": 85,
      "outputs": [
        {
          "output_type": "stream",
          "name": "stdout",
          "text": [
            "The total number of reviews is 70883\n",
            "The user who wrote the review is 68934\n"
          ]
        },
        {
          "output_type": "stream",
          "name": "stderr",
          "text": [
            "<ipython-input-79-17c3463facae>:8: FutureWarning: Series.__getitem__ treating keys as positions is deprecated. In a future version, integer keys will always be treated as labels (consistent with DataFrame behavior). To access a value by position, use `ser.iloc[pos]`\n",
            "  if series1[i]>1:\n"
          ]
        }
      ]
    },
    {
      "cell_type": "code",
      "source": [
        "new_user_id = id.to_list()\n",
        "result_dup_id = remove_special(dup_ind)\n",
        "result_user_id = remove_special(new_user_id)\n",
        "label_dic = {}\n",
        "label_df = labeling_user_id(result_user_id,result_dup_id,label_dic)"
      ],
      "metadata": {
        "id": "PA1Qa0pdjbHD"
      },
      "execution_count": 123,
      "outputs": []
    },
    {
      "cell_type": "code",
      "source": [
        "new_label_df = make_label_list(metadata)"
      ],
      "metadata": {
        "id": "txbcZyhpu3Gn"
      },
      "execution_count": 214,
      "outputs": []
    },
    {
      "cell_type": "code",
      "source": [
        "metadata_final = pd.concat([metadata,new_label_df],axis=1)\n",
        "reviewdata_final = pd.concat([review,label_df],axis = 1)\n",
        "print(metadata_final)\n",
        "print(reviewdata_final)"
      ],
      "metadata": {
        "colab": {
          "base_uri": "https://localhost:8080/"
        },
        "id": "bfxUEv2r7_l1",
        "outputId": "d9403f4a-7bd6-4018-c1a8-32057df2ac07"
      },
      "execution_count": 215,
      "outputs": [
        {
          "output_type": "stream",
          "name": "stdout",
          "text": [
            "      main_category                                              title  \\\n",
            "0        All Beauty  Howard LC0008 Leather Conditioner, 8-Ounce (4-...   \n",
            "1        All Beauty  Lurrose 100Pcs Full Cover Fake Toenails Artifi...   \n",
            "2        All Beauty                         Gold extatic Musk EDT 90ml   \n",
            "3        All Beauty  Brand New Headrang Face line Contour V-line Ma...   \n",
            "4        All Beauty  7 Packs Deep Wave Crochet Hair 22 Inch Deep wa...   \n",
            "...             ...                                                ...   \n",
            "11252    All Beauty  Yisimei Senegalese Twist Hair 24 Inches 6 Pack...   \n",
            "11253    All Beauty  3 Packs Crochet Brazilian Braids Hair 20 Inch ...   \n",
            "11254    All Beauty  Creamily 3 pack Synthetic Braiding Hair Braids...   \n",
            "11255    All Beauty  Mascara And Liquid Eyeliner Set,2-in-1 Big Eye...   \n",
            "11256    All Beauty  Black Charcoal Peel off Mask Blackhead Remover...   \n",
            "\n",
            "       average_rating                                           features  \\\n",
            "0                 4.8                                                 []   \n",
            "1                 3.7  [The false toenails are durable with perfect l...   \n",
            "2                 3.7  [Extatic Balmain Gold Musk By Balmain Edt Spra...   \n",
            "3                 3.3                                                 []   \n",
            "4                 3.4                                                 []   \n",
            "...               ...                                                ...   \n",
            "11252             4.8                                                 []   \n",
            "11253             5.0                                                 []   \n",
            "11254             4.3                                                 []   \n",
            "11255             1.7                                                 []   \n",
            "11256             5.0                                                 []   \n",
            "\n",
            "                                             description  price  \\\n",
            "0                                                     []   None   \n",
            "1      [Description, The false toenails are durable w...   6.99   \n",
            "2                 [Edt spray 3 oz design house: balmain]  86.95   \n",
            "3                                                     []   79.5   \n",
            "4                                                     []   None   \n",
            "...                                                  ...    ...   \n",
            "11252                                                 []   None   \n",
            "11253                                                 []   None   \n",
            "11254                                                 []   None   \n",
            "11255                                                 []   None   \n",
            "11256                                                 []   None   \n",
            "\n",
            "                                                  images            store  \\\n",
            "0      {'hi_res': [None, 'https://m.media-amazon.com/...  Howard Products   \n",
            "1      {'hi_res': ['https://m.media-amazon.com/images...          Lurrose   \n",
            "2      {'hi_res': ['https://m.media-amazon.com/images...          Balmain   \n",
            "3      {'hi_res': ['https://m.media-amazon.com/images...             None   \n",
            "4      {'hi_res': ['https://m.media-amazon.com/images...     Yun Mei Hair   \n",
            "...                                                  ...              ...   \n",
            "11252  {'hi_res': ['https://m.media-amazon.com/images...            “N/A”   \n",
            "11253  {'hi_res': ['https://m.media-amazon.com/images...     GoldenBeauty   \n",
            "11254  {'hi_res': [None, 'https://m.media-amazon.com/...         Creamily   \n",
            "11255  {'hi_res': ['https://m.media-amazon.com/images...         OLIBOLLA   \n",
            "11256  {'hi_res': [None, None, None, None, None, None...    TrueCraftware   \n",
            "\n",
            "                                                 details parent_asin  \\\n",
            "0      {\"Package Dimensions\": \"7.1 x 5.5 x 3 inches; ...  B01CUPMQZE   \n",
            "1      {\"Color\": \"As Shown\", \"Size\": \"Large\", \"Materi...  B07G9GWFSM   \n",
            "2      {\"Brand\": \"Balmain\", \"Item Form\": \"Spray\", \"It...  B01ERJEGS6   \n",
            "3      {\"Is Discontinued By Manufacturer\": \"No\", \"Pac...  B06XJZ7955   \n",
            "4      {\"Brand\": \"Yun Mei Hair\", \"Material\": \"Synthet...  B07Z818MLY   \n",
            "...                                                  ...         ...   \n",
            "11252  {\"Product Dimensions\": \"7 x 3 x 2 inches; 1.43...  B08HYJQSGW   \n",
            "11253                                                 {}  B08CXJW8HY   \n",
            "11254  {\"Brand\": \"Creamily\", \"Material\": \"Human Hair\"...  B076BPH1N3   \n",
            "11255  {\"Color\": \"Black\", \"Brand\": \"OLIBOLLA\", \"Item ...  B08T17DGH3   \n",
            "11256                                                 {}  B003P97WU4   \n",
            "\n",
            "       labeling_list  \n",
            "0                  0  \n",
            "1                  1  \n",
            "2                  2  \n",
            "3                  3  \n",
            "4                  4  \n",
            "...              ...  \n",
            "11252          11252  \n",
            "11253          11253  \n",
            "11254          11254  \n",
            "11255          11255  \n",
            "11256          11256  \n",
            "\n",
            "[11257 rows x 11 columns]\n",
            "       rating        asin parent_asin  labeling_user_id\n",
            "0           5  B07GHPCT6T  B07GHPCT6T                 1\n",
            "1           5  B082QX2HP6  B082QX2HP6                 2\n",
            "2           2  B07K8VTT6M  B07K8VTT6M                 3\n",
            "3           1  B01M5KNSQN  B01M5KNSQN                 4\n",
            "4           5  B081GCFHPG  B081GCFHPG                 5\n",
            "...       ...         ...         ...               ...\n",
            "70878       5  B0819DLYN4  B0819DLYN4             70879\n",
            "70879       5  B08QCWRKJC  B08QCWRKJC             70880\n",
            "70880       5  B08BRBS9QH  B08F4Q8ZBR             70881\n",
            "70881       4  B006YUIWKA  B006YUIWKA             70882\n",
            "70882       1  B006YUIWKA  B006YUIWKA             70883\n",
            "\n",
            "[70883 rows x 4 columns]\n"
          ]
        }
      ]
    },
    {
      "cell_type": "markdown",
      "source": [
        "Data Visualization"
      ],
      "metadata": {
        "id": "pQr58NfbEbh4"
      }
    },
    {
      "cell_type": "code",
      "source": [
        "asin = reviewdata_final['asin']\n",
        "asin_parent = reviewdata_final['parent_asin']\n",
        "#plt.plot(asin,asin_parent, 'b+')\n",
        "plt.bar(asin, asin_parent)\n",
        "plt.show()"
      ],
      "metadata": {
        "id": "UfYsHUBWEe1Q"
      },
      "execution_count": null,
      "outputs": []
    },
    {
      "cell_type": "markdown",
      "source": [
        "Modeling"
      ],
      "metadata": {
        "id": "llW9TZU9MGUb"
      }
    },
    {
      "cell_type": "code",
      "source": [
        "def text_preprocessing(column):\n",
        "    #make all words with lower letters\n",
        "    column = column.str.lower()\n",
        "    #getting rid of any punctution\n",
        "    column = column.str.replace('[-=+,#?^@*\\\"※~ㆍ!』‘|\\(\\)\\[\\]\\{\\}`\\'…》\\\"\\\"\\“\\’·]', '', case=False)\n",
        "    #spliting each sentence to words to apply previous funtions on them\n",
        "    word_tokens = column.str.split()\n",
        "    keywords = word_tokens.apply(lambda x: [item for item in x if item not in stop])\n",
        "    #assemble words of each sentence again and assign them in new column\n",
        "    for i in range(len(keywords)):\n",
        "        keywords[i] = \" \".join(keywords[i])\n",
        "        column = keywords\n",
        "    return column"
      ],
      "metadata": {
        "id": "Ut2yXXCyYO25"
      },
      "execution_count": 175,
      "outputs": []
    },
    {
      "cell_type": "code",
      "source": [
        "details_df = metadata_final['details']\n",
        "details_str_df = details_df.astype(str)\n",
        "tp_details_df = text_preprocessing(details_str_df)"
      ],
      "metadata": {
        "id": "Vc1pEqlpK4hs"
      },
      "execution_count": 185,
      "outputs": []
    },
    {
      "cell_type": "code",
      "source": [
        "CV = CountVectorizer()\n",
        "converted_metrix = CV.fit_transform(tp_details_df)\n",
        "cs_result = cosine_similarity(converted_metrix)"
      ],
      "metadata": {
        "id": "4-PQkrBxZKDF"
      },
      "execution_count": 234,
      "outputs": []
    },
    {
      "cell_type": "markdown",
      "source": [
        "Prediction"
      ],
      "metadata": {
        "id": "DuCUQkRIjbbh"
      }
    },
    {
      "cell_type": "code",
      "source": [
        "def found_asin(user_id):\n",
        "  label = reviewdata_final['labeling_user_id']\n",
        "  label_df_list = label.to_list()\n",
        "  for data in label_df_list:\n",
        "    if data == user_id:\n",
        "      return reviewdata_final[reviewdata_final['labeling_user_id'] == user_id]['parent_asin'].values[0]\n",
        "  else:\n",
        "    print(\"Wrong User_id, Please try again 1~70883.\")"
      ],
      "metadata": {
        "id": "thUYv-nI9tZW"
      },
      "execution_count": 178,
      "outputs": []
    },
    {
      "cell_type": "code",
      "source": [
        "def found_data(asin_id):\n",
        "  asindata = metadata_final['parent_asin']\n",
        "  asindata_df_list = asindata.to_list()\n",
        "  for dt in asindata_df_list:\n",
        "    if dt == asin_id:\n",
        "      return metadata_final[metadata_final['parent_asin'] == asin_id]['details'].values[0]"
      ],
      "metadata": {
        "id": "XJzF_di4DOCt"
      },
      "execution_count": 190,
      "outputs": []
    },
    {
      "cell_type": "code",
      "source": [
        "review_parent_asin = found_asin(500)\n",
        "already_buy_title = metadata_final[metadata_final['parent_asin']==review_parent_asin]['title'].values[0]\n",
        "already_buy_price = metadata_final[metadata_final['title']==already_buy_title]['price'].values[0]\n",
        "already_buy_rating = reviewdata_final[reviewdata_final['parent_asin']==review_parent_asin]['rating'].values[0]\n",
        "print(already_buy_title,already_buy_rating,already_buy_price)\n",
        "user_inform_data = found_data(review_parent_asin)\n",
        "exdata = metadata_final[metadata_final['details'].str.contains(user_inform_data)]"
      ],
      "metadata": {
        "colab": {
          "base_uri": "https://localhost:8080/"
        },
        "id": "hgEs52vwQmZ0",
        "outputId": "bcce5faa-9c14-4703-e892-f37af109a752"
      },
      "execution_count": 228,
      "outputs": [
        {
          "output_type": "stream",
          "name": "stdout",
          "text": [
            "3-PACK Kiss imPRESS\"VEXED & VICIOUS\" Medium Length Press-On Manicure Nails 5 None\n"
          ]
        }
      ]
    },
    {
      "cell_type": "code",
      "source": [
        "labeling_id = exdata['labeling_list'].values[0]\n",
        "score = list(enumerate(cs_result[labeling_id]))\n",
        "#now sort the similar movies in descending order\n",
        "sorted_score = sorted(score, key=lambda x:x[1], reverse= True)\n",
        "#we will ignore the first score because it will give us a 100% score because it's the same movie\n",
        "sorted_score = sorted_score[1:]\n",
        "sorted_score[0:10]"
      ],
      "metadata": {
        "colab": {
          "base_uri": "https://localhost:8080/"
        },
        "id": "hme8YXdQcxoQ",
        "outputId": "b6ec3b91-2d0c-454d-ad0a-98dca98605d0"
      },
      "execution_count": 235,
      "outputs": [
        {
          "output_type": "execute_result",
          "data": {
            "text/plain": [
              "[(5610, np.float64(0.8518518518518524)),\n",
              " (8989, np.float64(0.7313103409735261)),\n",
              " (6469, np.float64(0.7223151185146154)),\n",
              " (4055, np.float64(0.714741689891863)),\n",
              " (2093, np.float64(0.692820323027551)),\n",
              " (3126, np.float64(0.692820323027551)),\n",
              " (6729, np.float64(0.692820323027551)),\n",
              " (6297, np.float64(0.6793662204867577)),\n",
              " (6859, np.float64(0.6735753140545635)),\n",
              " (3654, np.float64(0.6719368409052927))]"
            ]
          },
          "metadata": {},
          "execution_count": 235
        }
      ]
    },
    {
      "cell_type": "markdown",
      "source": [
        "Prediction"
      ],
      "metadata": {
        "id": "5CHFa5GrMUus"
      }
    },
    {
      "cell_type": "code",
      "source": [
        "rank = 1\n",
        "for item in sorted_score:\n",
        "    title = metadata_final[metadata_final['labeling_list'] == item[0]]['title'].values[0]\n",
        "    rating = metadata_final[metadata_final['title']==title]['average_rating'].values[0]\n",
        "    price = metadata_final[metadata_final['title']==title]['price'].values[0]\n",
        "    detail = metadata_final[metadata_final['title']==title]['details'].values[0]\n",
        "  #https://aait.tistory.com/88\n",
        "    #data = str(metadata[metadata['title']==title]['images'])\n",
        "    #listset_str = ''.join(data)\n",
        "    #Remove Special characters to space\n",
        "    #url = re.sub('[-=+,#?^@*\\\"※~ㆍ!』‘|\\(\\)\\[\\]`\\'…》\\”\\“\\’·]', \"\",listset_str)\n",
        "    #print(url)\n",
        "    #url_data = url.str.contains(\"hi_res: \")\n",
        "    #Split the data by space\n",
        "    #print(url_data)\n",
        "    print(rank,title,rating,price,detail)\n",
        "    #image_nparray = np.asarray(bytearray(requests.get(url).content), dtype=np.uint8)\n",
        "    #image = cv2.imdecode(image_nparray, cv2.IMREAD_COLOR)\n",
        "    #print(image.shape)\n",
        "    #cv2.imshow('Image from url', image)\n",
        "    #cv2.waitKey(0)\n",
        "    rank = rank+1\n",
        "    if rank > 5:\n",
        "        break"
      ],
      "metadata": {
        "colab": {
          "base_uri": "https://localhost:8080/"
        },
        "id": "mnHnnjbPQtnp",
        "outputId": "c04481f3-6ed2-49c4-d0d7-1258bc8d34ed"
      },
      "execution_count": 232,
      "outputs": [
        {
          "output_type": "stream",
          "name": "stdout",
          "text": [
            "1 3-PACK KISS imPRESS ON FIRE Short Length Press-On Manicure Nails 4.4 None {\"Size\": \"Small\", \"Brand\": \"Broadway\", \"Style\": \"French\", \"Pattern\": \"Solid\", \"Coverage\": \"Full Well Tips\", \"Is Discontinued By Manufacturer\": \"No\", \"Package Dimensions\": \"5.5 x 5 x 1 inches; 2.88 Ounces\", \"Item model number\": \"Kiss\", \"UPC\": \"731509192490\"}\n",
            "2 KISS imPRESS Nails Press-On Manicure Nails (BIPA040W02-Harlem Shake) 4.1 None {\"Brand\": \"ImPRESS\", \"Style\": \"French\", \"Pattern\": \"Solid\", \"Coverage\": \"Full Well Tips\", \"Item Form\": \"Gel\", \"Is Discontinued By Manufacturer\": \"No\", \"Package Dimensions\": \"5.5 x 1.95 x 1.1 inches; 2.57 Ounces\", \"UPC\": \"731509725681\"}\n",
            "3 BeYou 3Pack 3Colored Salon Nail 100Tips, Professional Fake Nail Tips For Nail salon Nail Shop (25103/25203/25205) (Puple) 4.3 None {\"Size\": \"Large\", \"Material\": \"Acrylic\", \"Style\": \"French\", \"Pattern\": \"Solid\", \"Coverage\": \"Full Well Tips\", \"Is Discontinued By Manufacturer\": \"No\", \"Package Dimensions\": \"6 x 4 x 2.52 inches; 6.4 Ounces\", \"UPC\": \"821586103356\"}\n",
            "4 Kiss imPress Press-On French Manicure Nails 56971 Wink Wink 3.6 8.99 {\"Size\": \"Large\", \"Brand\": \"ImPRESS\", \"Style\": \"French\", \"Pattern\": \"Solid\", \"Coverage\": \"Full Well Tips\", \"Is Discontinued By Manufacturer\": \"Yes\", \"Package Dimensions\": \"4.76 x 1.81 x 0.94 inches; 0.63 Ounces\", \"Item model number\": \"BIPD130 / 56971\"}\n",
            "5 False Nails Coffin Shape 24 Pieces Matte Nails Ballerina Girls Fake Nails 3.7 None {\"Size\": \"Large\", \"Brand\": \"VIVI NAIL\", \"Style\": \"French\", \"Coverage\": \"Full Well Tips\", \"Item Form\": \"Gel\", \"Is Discontinued By Manufacturer\": \"No\", \"Package Dimensions\": \"5.6 x 3 x 1 inches; 1.12 Ounces\", \"UPC\": \"713482403732\"}\n"
          ]
        }
      ]
    },
    {
      "cell_type": "markdown",
      "source": [
        "Evaluation"
      ],
      "metadata": {
        "id": "Pnh1rYmjRurl"
      }
    },
    {
      "cell_type": "code",
      "source": [],
      "metadata": {
        "id": "mO_Z0fQaRzmm"
      },
      "execution_count": null,
      "outputs": []
    }
  ]
}