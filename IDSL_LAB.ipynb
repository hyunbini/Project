{
  "nbformat": 4,
  "nbformat_minor": 0,
  "metadata": {
    "colab": {
      "provenance": [],
      "authorship_tag": "ABX9TyN1j5ilY70zG1ILyN+++Ndp",
      "include_colab_link": true
    },
    "kernelspec": {
      "name": "python3",
      "display_name": "Python 3"
    },
    "language_info": {
      "name": "python"
    }
  },
  "cells": [
    {
      "cell_type": "markdown",
      "metadata": {
        "id": "view-in-github",
        "colab_type": "text"
      },
      "source": [
        "<a href=\"https://colab.research.google.com/github/hyunbini/Project/blob/main/IDSL_LAB.ipynb\" target=\"_parent\"><img src=\"https://colab.research.google.com/assets/colab-badge.svg\" alt=\"Open In Colab\"/></a>"
      ]
    },
    {
      "cell_type": "markdown",
      "source": [
        "Import Library"
      ],
      "metadata": {
        "id": "tzS3GM533A6q"
      }
    },
    {
      "cell_type": "code",
      "execution_count": 246,
      "metadata": {
        "id": "uohUPTt21gIL",
        "colab": {
          "base_uri": "https://localhost:8080/"
        },
        "outputId": "7d7784e7-9c92-42c7-efbc-46058c47a163"
      },
      "outputs": [
        {
          "output_type": "stream",
          "name": "stdout",
          "text": [
            "Drive already mounted at /content/drive; to attempt to forcibly remount, call drive.mount(\"/content/drive\", force_remount=True).\n"
          ]
        }
      ],
      "source": [
        "import pandas as pd\n",
        "import numpy as np\n",
        "import re\n",
        "import seaborn as sns\n",
        "import matplotlib.pyplot as plt\n",
        "from google.colab import drive\n",
        "drive.mount('/content/drive')\n",
        "from sklearn.metrics.pairwise import cosine_similarity\n",
        "from sklearn.metrics import mean_squared_error"
      ]
    },
    {
      "cell_type": "markdown",
      "source": [
        "Function used in code"
      ],
      "metadata": {
        "id": "QLQ8-8YPF33X"
      }
    },
    {
      "cell_type": "code",
      "source": [
        "def check_nan(file):\n",
        "  result = file.isnull().sum()\n",
        "  return result"
      ],
      "metadata": {
        "id": "S2PrkRjtFNak"
      },
      "execution_count": 247,
      "outputs": []
    },
    {
      "cell_type": "code",
      "source": [
        "#Function that extracts user_id who wrote one or more reviews\n",
        "#input : series(pandas dataframe)\n",
        "#output : result(list)\n",
        "def make_list(series1):\n",
        "  result = []\n",
        "  for i in range(series1.size):\n",
        "    #Add user_id who have written reviews more than once to the new list\n",
        "    if series1[i]>1:\n",
        "      result.append(series1.index[i])\n",
        "  return result"
      ],
      "metadata": {
        "id": "dtYL-stfC_0J"
      },
      "execution_count": 248,
      "outputs": []
    },
    {
      "cell_type": "code",
      "source": [
        "#Function that erases unnecessary characters and makes a list of only the necessary data\n",
        "#input : list1(list)\n",
        "#output : result_listset(list)\n",
        "def remove_special(list1):\n",
        "  #Change list to string\n",
        "  for i in range(len(list1)):\n",
        "    list1[i] = str(list1[i])\n",
        "  listset_str = ' '.join(list1)\n",
        "  #Remove Special characters to space\n",
        "  listset_str = re.sub('[-=+,#/\\?:^.@*\\\"※~ㆍ!』‘|\\(\\)\\[\\]`\\'…》\\”\\“\\’·]', \"\",listset_str)\n",
        "  #Split the data by space\n",
        "  result_listset = listset_str.split(' ')\n",
        "  return result_listset"
      ],
      "metadata": {
        "id": "N5SZ5jb6oimj"
      },
      "execution_count": 249,
      "outputs": []
    },
    {
      "cell_type": "markdown",
      "source": [
        "Import Data and Remove NaN Value and Unuseful Columns\n",
        "\n"
      ],
      "metadata": {
        "id": "thldBraK3Dg1"
      }
    },
    {
      "cell_type": "code",
      "source": [
        "meta_json = pd.read_json('/content/drive/MyDrive/IDSL Recruitment/[Data 1] Eng - Review Analysis/metadata.json')\n",
        "review_json = pd.read_json('/content/drive/MyDrive/IDSL Recruitment/[Data 1] Eng - Review Analysis/reviews.json')\n",
        "print(check_nan(meta_json))\n",
        "print(check_nan(review_json))"
      ],
      "metadata": {
        "colab": {
          "base_uri": "https://localhost:8080/"
        },
        "id": "YvRzMqFw3GT5",
        "outputId": "1c9471dc-fc0b-40e3-b24d-1d307cc8d39a"
      },
      "execution_count": 250,
      "outputs": [
        {
          "output_type": "stream",
          "name": "stdout",
          "text": [
            "main_category          0\n",
            "title                  0\n",
            "average_rating         0\n",
            "rating_number          0\n",
            "features               0\n",
            "description            0\n",
            "price                  0\n",
            "images                 0\n",
            "videos                 0\n",
            "store               1105\n",
            "categories             0\n",
            "details                0\n",
            "parent_asin            0\n",
            "bought_together    11257\n",
            "subtitle           11257\n",
            "author             11257\n",
            "dtype: int64\n",
            "rating               0\n",
            "title                0\n",
            "text                 0\n",
            "images               0\n",
            "asin                 0\n",
            "parent_asin          0\n",
            "user_id              0\n",
            "timestamp            0\n",
            "helpful_vote         0\n",
            "verified_purchase    0\n",
            "dtype: int64\n"
          ]
        }
      ]
    },
    {
      "cell_type": "code",
      "source": [
        "metadata = meta_json.drop(['images', 'videos', 'categories', 'details', 'bought_together', 'subtitle', 'author'],axis = 1)\n",
        "review = review_json.drop(['title', 'text','images','timestamp','user_id'],axis=1)"
      ],
      "metadata": {
        "id": "29yeHad3C4HZ"
      },
      "execution_count": 251,
      "outputs": []
    },
    {
      "cell_type": "markdown",
      "source": [
        "Extracting duplicate data and labeling of the user_id value to be used for prediction"
      ],
      "metadata": {
        "id": "sP1inIVWC32n"
      }
    },
    {
      "cell_type": "code",
      "source": [
        "id = review_json['user_id']\n",
        "print(id.size)\n",
        "id_count = (id.value_counts())\n",
        "print(id_count.size)\n",
        "dup_ind = make_list(id_count)"
      ],
      "metadata": {
        "colab": {
          "base_uri": "https://localhost:8080/"
        },
        "id": "Hg2ENOv0jay9",
        "outputId": "54c9bf8e-a43c-48c1-ccf5-ac3af03bdfe3"
      },
      "execution_count": 252,
      "outputs": [
        {
          "output_type": "stream",
          "name": "stdout",
          "text": [
            "70883\n",
            "68934\n"
          ]
        },
        {
          "output_type": "stream",
          "name": "stderr",
          "text": [
            "<ipython-input-248-17c3463facae>:8: FutureWarning: Series.__getitem__ treating keys as positions is deprecated. In a future version, integer keys will always be treated as labels (consistent with DataFrame behavior). To access a value by position, use `ser.iloc[pos]`\n",
            "  if series1[i]>1:\n"
          ]
        }
      ]
    },
    {
      "cell_type": "code",
      "source": [
        "#Function that labels data composed of complex characters numerically based on ascending order\\\n",
        "#input : list1(list to be replaced), list2(reference list), dic(dictionary to store the values of reference list and its unique labeling numbers)\n",
        "#output : list_df(Dataframe made from a labeled list)\n",
        "def labeling(list1,list2,dic):\n",
        "  i = 0\n",
        "  for data in list1:\n",
        "    if data in list2:\n",
        "      if data in dic.keys():\n",
        "        list1[i] = dic[data]\n",
        "      else:\n",
        "        dic[data] = i\n",
        "        list1[i] = i\n",
        "      i = i+1\n",
        "    else:\n",
        "      list1[i] = i\n",
        "      i = i+1\n",
        "  for y in range(len(list1)):\n",
        "    list1[y] = list1[y]+1\n",
        "  list_df = pd.DataFrame(data=list1, columns= ['label_id'])\n",
        "  return list_df"
      ],
      "metadata": {
        "id": "z79IJmG3RWZr"
      },
      "execution_count": 253,
      "outputs": []
    },
    {
      "cell_type": "code",
      "source": [
        "new_user_id = id.to_list()\n",
        "result_dup_id = remove_special(dup_ind)\n",
        "result_user_id = remove_special(new_user_id)\n",
        "label_dic = {}\n",
        "label_df = labeling(result_user_id,result_dup_id,label_dic)"
      ],
      "metadata": {
        "id": "PA1Qa0pdjbHD"
      },
      "execution_count": 254,
      "outputs": []
    },
    {
      "cell_type": "markdown",
      "source": [
        "Modeling"
      ],
      "metadata": {
        "id": "DuCUQkRIjbbh"
      }
    },
    {
      "cell_type": "code",
      "source": [
        "def recommendation_model():\n",
        "\n",
        "  top3_result = {}\n",
        "  for parent_asin, rating in result() :\n"
      ],
      "metadata": {
        "id": "xOu6-veZjekk",
        "colab": {
          "base_uri": "https://localhost:8080/",
          "height": 105
        },
        "outputId": "3b4b3f17-a671-4fc8-ab02-549108b2e0ee"
      },
      "execution_count": 255,
      "outputs": [
        {
          "output_type": "error",
          "ename": "SyntaxError",
          "evalue": "incomplete input (<ipython-input-255-89ce78fab6f1>, line 4)",
          "traceback": [
            "\u001b[0;36m  File \u001b[0;32m\"<ipython-input-255-89ce78fab6f1>\"\u001b[0;36m, line \u001b[0;32m4\u001b[0m\n\u001b[0;31m    for parent_asin, rating in result() :\u001b[0m\n\u001b[0m                                         ^\u001b[0m\n\u001b[0;31mSyntaxError\u001b[0m\u001b[0;31m:\u001b[0m incomplete input\n"
          ]
        }
      ]
    }
  ]
}