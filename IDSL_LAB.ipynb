{
  "nbformat": 4,
  "nbformat_minor": 0,
  "metadata": {
    "colab": {
      "provenance": [],
      "authorship_tag": "ABX9TyOTyjS10mfSsey5LFozQY3d",
      "include_colab_link": true
    },
    "kernelspec": {
      "name": "python3",
      "display_name": "Python 3"
    },
    "language_info": {
      "name": "python"
    }
  },
  "cells": [
    {
      "cell_type": "markdown",
      "metadata": {
        "id": "view-in-github",
        "colab_type": "text"
      },
      "source": [
        "<a href=\"https://colab.research.google.com/github/hyunbini/Project/blob/main/IDSL_LAB.ipynb\" target=\"_parent\"><img src=\"https://colab.research.google.com/assets/colab-badge.svg\" alt=\"Open In Colab\"/></a>"
      ]
    },
    {
      "cell_type": "markdown",
      "source": [
        "Import Library"
      ],
      "metadata": {
        "id": "tzS3GM533A6q"
      }
    },
    {
      "cell_type": "code",
      "execution_count": 384,
      "metadata": {
        "id": "uohUPTt21gIL",
        "colab": {
          "base_uri": "https://localhost:8080/"
        },
        "outputId": "7631ff5c-8371-4594-b9fb-e459d489963a"
      },
      "outputs": [
        {
          "output_type": "stream",
          "name": "stdout",
          "text": [
            "Drive already mounted at /content/drive; to attempt to forcibly remount, call drive.mount(\"/content/drive\", force_remount=True).\n"
          ]
        },
        {
          "output_type": "stream",
          "name": "stderr",
          "text": [
            "[nltk_data] Downloading package stopwords to /root/nltk_data...\n",
            "[nltk_data]   Package stopwords is already up-to-date!\n"
          ]
        }
      ],
      "source": [
        "import pandas as pd\n",
        "import numpy as np\n",
        "import matplotlib.pyplot as plt\n",
        "import re\n",
        "from google.colab import drive\n",
        "drive.mount('/content/drive')\n",
        "import nltk\n",
        "nltk.download('stopwords')\n",
        "from nltk.corpus import stopwords\n",
        "stop = stopwords.words('english')\n",
        "from sklearn.feature_extraction.text import CountVectorizer\n",
        "from sklearn.metrics.pairwise import cosine_similarity\n",
        "import cv2\n",
        "from google.colab.patches import cv2_imshow\n",
        "import requests"
      ]
    },
    {
      "cell_type": "markdown",
      "source": [
        "User-defined Function used in code"
      ],
      "metadata": {
        "id": "QLQ8-8YPF33X"
      }
    },
    {
      "cell_type": "code",
      "source": [
        "def check_nan(file):\n",
        "  result = file.isnull().sum()\n",
        "  return result"
      ],
      "metadata": {
        "id": "S2PrkRjtFNak"
      },
      "execution_count": 385,
      "outputs": []
    },
    {
      "cell_type": "code",
      "source": [
        "#Function that extracts user_id who wrote one or more reviews\n",
        "#Input : series(pandas dataframe)\n",
        "#Output : result(list)\n",
        "def make_list(series1):\n",
        "  result = []\n",
        "  for i in range(series1.size):\n",
        "    #Add user_id who have written reviews more than once to the new list\n",
        "    if series1[i]>1:\n",
        "      result.append(series1.index[i])\n",
        "  return result"
      ],
      "metadata": {
        "id": "dtYL-stfC_0J"
      },
      "execution_count": 386,
      "outputs": []
    },
    {
      "cell_type": "code",
      "source": [
        "#Function that erases unnecessary characters and makes a list of only the necessary data\n",
        "#Input : list1(list)\n",
        "#Output : result_listset(list)\n",
        "def remove_special(list1):\n",
        "  #Change list to string\n",
        "  for i in range(len(list1)):\n",
        "    list1[i] = str(list1[i])\n",
        "  listset_str = ' '.join(list1)\n",
        "  #Remove Special characters to space\n",
        "  listset_str = re.sub('[-=+,#/\\?:^.@*\\\"※~ㆍ!』‘|\\(\\)\\[\\]`\\'…》\\”\\“\\’·]', \"\",listset_str)\n",
        "  #Split the data by space\n",
        "  result_listset = listset_str.split(' ')\n",
        "  return result_listset"
      ],
      "metadata": {
        "id": "N5SZ5jb6oimj"
      },
      "execution_count": 387,
      "outputs": []
    },
    {
      "cell_type": "code",
      "source": [
        "#Function that labels data composed of complex characters numerically based on ascending order\\\n",
        "#Input : list1(list to be replaced), list2(reference list), dic(dictionary to store the values of reference list and its unique labeling numbers)\n",
        "#Output : list_df(Dataframe made from a labeled list)\n",
        "def labeling_user_id(list1,list2,dic):\n",
        "  i = 0\n",
        "  for data in list1:\n",
        "    if data in list2:\n",
        "      if data in dic.keys():\n",
        "        list1[i] = dic[data]\n",
        "      else:\n",
        "        dic[data] = i\n",
        "        list1[i] = i\n",
        "      i = i+1\n",
        "    else:\n",
        "      list1[i] = i\n",
        "      i = i+1\n",
        "  for y in range(len(list1)):\n",
        "    list1[y] = list1[y]+1\n",
        "  list_df = pd.DataFrame(data=list1, columns= ['labeling_user_id'])\n",
        "  return list_df"
      ],
      "metadata": {
        "id": "z79IJmG3RWZr"
      },
      "execution_count": 388,
      "outputs": []
    },
    {
      "cell_type": "code",
      "source": [
        "#Function that make a list with data that goes up from zero to a list that goes up in ascending order\n",
        "#Input : dataframe\n",
        "#Output : list\n",
        "def make_label_list(dataset_name):\n",
        "  emptylist = []\n",
        "  for i in range(len(dataset_name)):\n",
        "    emptylist.append(i)\n",
        "    i = i+1\n",
        "  list_df_1 = pd.DataFrame(data=emptylist, columns=['labeling_list'])\n",
        "  return list_df_1"
      ],
      "metadata": {
        "id": "8dL5EgrghfPQ"
      },
      "execution_count": 389,
      "outputs": []
    },
    {
      "cell_type": "code",
      "source": [
        "#Function that removes unnecessary sentence symbols, case-sensive, and meaningless word in a sentence to vectorize\n",
        "#Input : string\n",
        "#Output : string\n",
        "def text_preprocessing(column):\n",
        "    #Make all words with lower letters\n",
        "    column = column.str.lower()\n",
        "    #Remove unnecessary punctuation marks\n",
        "    column = column.str.replace('[-=+,#?^@*\\\"※~ㆍ!』‘|\\(\\)\\[\\]\\{\\}`\\'…》\\\"\\\"\\“\\’·]', '', case=False)\n",
        "    #Spliting each sentence to words to apply erase meaningless word\n",
        "    word_tokens = column.str.split()\n",
        "    keywords = word_tokens.apply(lambda x: [item for item in x if item not in stop])\n",
        "    #assemble words of each sentence again and assign them in new column\n",
        "    for i in range(len(keywords)):\n",
        "        keywords[i] = \" \".join(keywords[i])\n",
        "        column = keywords\n",
        "    return column"
      ],
      "metadata": {
        "id": "Ut2yXXCyYO25"
      },
      "execution_count": 390,
      "outputs": []
    },
    {
      "cell_type": "code",
      "source": [
        "#Function that receives the parent_asin of the review product user wrote using the user_id after receiving the user_id\n",
        "#Input : float\n",
        "#Output : string\n",
        "def found_asin(user_id):\n",
        "  label = reviewdata['user_id']\n",
        "  label_df_list = label.to_list()\n",
        "  save_asin = []\n",
        "  for data in label_df_list:\n",
        "    if data == user_id:\n",
        "      save_asin.append(data)\n",
        "  if (len(save_asin)) == 1:\n",
        "    return reviewdata[reviewdata['user_id'] == user_id]['parent_asin'].values[0]\n",
        "  elif (len(save_asin)) > 1:\n",
        "    for data_1 in save_asin:\n",
        "      high_data = float(reviewdata[reviewdata['user_id']==data_1]['rating'].values[0])\n",
        "      if float(reviewdata[reviewdata['user_id']==data_1]['rating'].values[0])>high_data:\n",
        "        high_value = float(reviewdata[reviewdata['user_id']==data_1]['rating'].values[0])\n",
        "      else:\n",
        "        high_value = high_data\n",
        "    return reviewdata[reviewdata['rating']==high_value]['parent_asin'].values[0]\n",
        "  else:\n",
        "    print(\"Wrong User_id, Please try again 1~70883.\")"
      ],
      "metadata": {
        "id": "thUYv-nI9tZW"
      },
      "execution_count": 391,
      "outputs": []
    },
    {
      "cell_type": "code",
      "source": [
        "#Function to find the details of the product that fit parent_asin\n",
        "#Input : string\n",
        "#Output : string\n",
        "def found_data(asin_id):\n",
        "  asindata = metadata['parent_asin']\n",
        "  asindata_df_list = asindata.to_list()\n",
        "  for dt in asindata_df_list:\n",
        "    if dt == asin_id:\n",
        "      return metadata[metadata['parent_asin'] == asin_id]['details'].values[0]"
      ],
      "metadata": {
        "id": "XJzF_di4DOCt"
      },
      "execution_count": 392,
      "outputs": []
    },
    {
      "cell_type": "code",
      "source": [
        "#Function that receives the url for the product and show the image\n",
        "#Input : string\n",
        "#Output : Image or String\n",
        "def image_show(dataurl):\n",
        "    dataurl_str = ''.join(dataurl)\n",
        "    url = re.sub('[=+,#?^@*\\\"※~ㆍ!』‘|\\(\\)\\[\\]`\\'…》\\”\\“\\’·]', \"\",dataurl_str)\n",
        "    dataurl_list = url.split()\n",
        "    url_list = [s for s in dataurl_list if \"https://\" in s][0]\n",
        "    url_data = ''.join(url_list)\n",
        "    image_nparray = np.asarray(bytearray(requests.get(url_data).content), dtype=np.uint8)\n",
        "    image = cv2.imdecode(image_nparray, cv2.IMREAD_COLOR)\n",
        "    if str(type(image)) == \"<class 'numpy.ndarray'>\":\n",
        "      image_final = cv2.resize(image,(100,100))\n",
        "      cv2_imshow(image_final)\n",
        "      cv2.waitKey(0)\n",
        "    else:\n",
        "      print(\"Sorry, There is no image for this product.\")"
      ],
      "metadata": {
        "id": "0t2oEapfjPVN"
      },
      "execution_count": 393,
      "outputs": []
    },
    {
      "cell_type": "markdown",
      "source": [
        "Import Data and Remove NaN Value and Unuseful Columns\n",
        "\n"
      ],
      "metadata": {
        "id": "thldBraK3Dg1"
      }
    },
    {
      "cell_type": "code",
      "source": [
        "meta_json = pd.read_json('/content/drive/MyDrive/IDSL Recruitment/[Data 1] Eng - Review Analysis/metadata.json')\n",
        "review_json = pd.read_json('/content/drive/MyDrive/IDSL Recruitment/[Data 1] Eng - Review Analysis/reviews.json')\n",
        "print(meta_json.head())\n",
        "print(review_json.head())\n",
        "print(check_nan(meta_json))\n",
        "print(check_nan(review_json))"
      ],
      "metadata": {
        "colab": {
          "base_uri": "https://localhost:8080/"
        },
        "id": "YvRzMqFw3GT5",
        "outputId": "3ff34404-2f1c-40a3-adcb-8347bdc59a70"
      },
      "execution_count": 394,
      "outputs": [
        {
          "output_type": "stream",
          "name": "stdout",
          "text": [
            "  main_category                                              title  \\\n",
            "0    All Beauty  Howard LC0008 Leather Conditioner, 8-Ounce (4-...   \n",
            "1    All Beauty  Lurrose 100Pcs Full Cover Fake Toenails Artifi...   \n",
            "2    All Beauty                         Gold extatic Musk EDT 90ml   \n",
            "3    All Beauty  Brand New Headrang Face line Contour V-line Ma...   \n",
            "4    All Beauty  7 Packs Deep Wave Crochet Hair 22 Inch Deep wa...   \n",
            "\n",
            "   average_rating  rating_number  \\\n",
            "0             4.8             10   \n",
            "1             3.7             35   \n",
            "2             3.7              2   \n",
            "3             3.3              4   \n",
            "4             3.4             10   \n",
            "\n",
            "                                            features  \\\n",
            "0                                                 []   \n",
            "1  [The false toenails are durable with perfect l...   \n",
            "2  [Extatic Balmain Gold Musk By Balmain Edt Spra...   \n",
            "3                                                 []   \n",
            "4                                                 []   \n",
            "\n",
            "                                         description  price  \\\n",
            "0                                                 []   None   \n",
            "1  [Description, The false toenails are durable w...   6.99   \n",
            "2             [Edt spray 3 oz design house: balmain]  86.95   \n",
            "3                                                 []   79.5   \n",
            "4                                                 []   None   \n",
            "\n",
            "                                              images  \\\n",
            "0  {'hi_res': [None, 'https://m.media-amazon.com/...   \n",
            "1  {'hi_res': ['https://m.media-amazon.com/images...   \n",
            "2  {'hi_res': ['https://m.media-amazon.com/images...   \n",
            "3  {'hi_res': ['https://m.media-amazon.com/images...   \n",
            "4  {'hi_res': ['https://m.media-amazon.com/images...   \n",
            "\n",
            "                                    videos            store categories  \\\n",
            "0  {'title': [], 'url': [], 'user_id': []}  Howard Products         []   \n",
            "1  {'title': [], 'url': [], 'user_id': []}          Lurrose         []   \n",
            "2  {'title': [], 'url': [], 'user_id': []}          Balmain         []   \n",
            "3  {'title': [], 'url': [], 'user_id': []}             None         []   \n",
            "4  {'title': [], 'url': [], 'user_id': []}     Yun Mei Hair         []   \n",
            "\n",
            "                                             details parent_asin  \\\n",
            "0  {\"Package Dimensions\": \"7.1 x 5.5 x 3 inches; ...  B01CUPMQZE   \n",
            "1  {\"Color\": \"As Shown\", \"Size\": \"Large\", \"Materi...  B07G9GWFSM   \n",
            "2  {\"Brand\": \"Balmain\", \"Item Form\": \"Spray\", \"It...  B01ERJEGS6   \n",
            "3  {\"Is Discontinued By Manufacturer\": \"No\", \"Pac...  B06XJZ7955   \n",
            "4  {\"Brand\": \"Yun Mei Hair\", \"Material\": \"Synthet...  B07Z818MLY   \n",
            "\n",
            "   bought_together  subtitle  author  \n",
            "0              NaN       NaN     NaN  \n",
            "1              NaN       NaN     NaN  \n",
            "2              NaN       NaN     NaN  \n",
            "3              NaN       NaN     NaN  \n",
            "4              NaN       NaN     NaN  \n",
            "   rating                                              title  \\\n",
            "0       5  Quality hair iron, works perfectly to straight...   \n",
            "1       5                                       nice sized !   \n",
            "2       2                    I'll stick to my 5 blade razor.   \n",
            "3       1                                       Don’t bother   \n",
            "4       5                                Really nice quality   \n",
            "\n",
            "                                                text images        asin  \\\n",
            "0  This is a great hair straightener. Heats up qu...     []  B07GHPCT6T   \n",
            "1  i had a small one  that just got destroyed  th...     []  B082QX2HP6   \n",
            "2  I think I need to stick with my 5 blade razor....     []  B07K8VTT6M   \n",
            "3  Normally I like NYX products but not this one....     []  B01M5KNSQN   \n",
            "4  These are not what I was expecting. They are s...     []  B081GCFHPG   \n",
            "\n",
            "  parent_asin                       user_id               timestamp  \\\n",
            "0  B07GHPCT6T  AFSKPY37N3C43SOI5IEXEK5JSIYA 2020-08-23 19:54:36.613   \n",
            "1  B082QX2HP6  AHGAOIZVODNHYMNCBV4DECZH42UQ 2020-03-21 14:04:53.853   \n",
            "2  B07K8VTT6M  AGC3Q6IXOVLTTDMS4Q55FPYUF6FQ 2020-05-17 14:00:40.497   \n",
            "3  B01M5KNSQN  AFETVW7S5M4LVJ7GTWPCKT7S3YBQ 2022-04-10 23:42:11.604   \n",
            "4  B081GCFHPG  AE5DIA2HDWBPNGBO2FXN2PF4NQJA 2021-06-12 01:02:14.108   \n",
            "\n",
            "   helpful_vote  verified_purchase  \n",
            "0             0              False  \n",
            "1             0               True  \n",
            "2             0               True  \n",
            "3             0               True  \n",
            "4             0               True  \n",
            "main_category          0\n",
            "title                  0\n",
            "average_rating         0\n",
            "rating_number          0\n",
            "features               0\n",
            "description            0\n",
            "price                  0\n",
            "images                 0\n",
            "videos                 0\n",
            "store               1105\n",
            "categories             0\n",
            "details                0\n",
            "parent_asin            0\n",
            "bought_together    11257\n",
            "subtitle           11257\n",
            "author             11257\n",
            "dtype: int64\n",
            "rating               0\n",
            "title                0\n",
            "text                 0\n",
            "images               0\n",
            "asin                 0\n",
            "parent_asin          0\n",
            "user_id              0\n",
            "timestamp            0\n",
            "helpful_vote         0\n",
            "verified_purchase    0\n",
            "dtype: int64\n"
          ]
        }
      ]
    },
    {
      "cell_type": "code",
      "source": [
        "meta = meta_json.drop(['rating_number','categories','videos', 'bought_together', 'subtitle', 'author'],axis = 1)\n",
        "print(meta.head())\n",
        "reviewdata = review_json.drop(['title', 'text','images','timestamp','helpful_vote','verified_purchase'],axis=1)\n",
        "print(reviewdata.head())"
      ],
      "metadata": {
        "id": "29yeHad3C4HZ",
        "colab": {
          "base_uri": "https://localhost:8080/"
        },
        "outputId": "5d9fefca-894c-4ff9-fb37-7ee455f577fa"
      },
      "execution_count": 395,
      "outputs": [
        {
          "output_type": "stream",
          "name": "stdout",
          "text": [
            "  main_category                                              title  \\\n",
            "0    All Beauty  Howard LC0008 Leather Conditioner, 8-Ounce (4-...   \n",
            "1    All Beauty  Lurrose 100Pcs Full Cover Fake Toenails Artifi...   \n",
            "2    All Beauty                         Gold extatic Musk EDT 90ml   \n",
            "3    All Beauty  Brand New Headrang Face line Contour V-line Ma...   \n",
            "4    All Beauty  7 Packs Deep Wave Crochet Hair 22 Inch Deep wa...   \n",
            "\n",
            "   average_rating                                           features  \\\n",
            "0             4.8                                                 []   \n",
            "1             3.7  [The false toenails are durable with perfect l...   \n",
            "2             3.7  [Extatic Balmain Gold Musk By Balmain Edt Spra...   \n",
            "3             3.3                                                 []   \n",
            "4             3.4                                                 []   \n",
            "\n",
            "                                         description  price  \\\n",
            "0                                                 []   None   \n",
            "1  [Description, The false toenails are durable w...   6.99   \n",
            "2             [Edt spray 3 oz design house: balmain]  86.95   \n",
            "3                                                 []   79.5   \n",
            "4                                                 []   None   \n",
            "\n",
            "                                              images            store  \\\n",
            "0  {'hi_res': [None, 'https://m.media-amazon.com/...  Howard Products   \n",
            "1  {'hi_res': ['https://m.media-amazon.com/images...          Lurrose   \n",
            "2  {'hi_res': ['https://m.media-amazon.com/images...          Balmain   \n",
            "3  {'hi_res': ['https://m.media-amazon.com/images...             None   \n",
            "4  {'hi_res': ['https://m.media-amazon.com/images...     Yun Mei Hair   \n",
            "\n",
            "                                             details parent_asin  \n",
            "0  {\"Package Dimensions\": \"7.1 x 5.5 x 3 inches; ...  B01CUPMQZE  \n",
            "1  {\"Color\": \"As Shown\", \"Size\": \"Large\", \"Materi...  B07G9GWFSM  \n",
            "2  {\"Brand\": \"Balmain\", \"Item Form\": \"Spray\", \"It...  B01ERJEGS6  \n",
            "3  {\"Is Discontinued By Manufacturer\": \"No\", \"Pac...  B06XJZ7955  \n",
            "4  {\"Brand\": \"Yun Mei Hair\", \"Material\": \"Synthet...  B07Z818MLY  \n",
            "   rating        asin parent_asin                       user_id\n",
            "0       5  B07GHPCT6T  B07GHPCT6T  AFSKPY37N3C43SOI5IEXEK5JSIYA\n",
            "1       5  B082QX2HP6  B082QX2HP6  AHGAOIZVODNHYMNCBV4DECZH42UQ\n",
            "2       2  B07K8VTT6M  B07K8VTT6M  AGC3Q6IXOVLTTDMS4Q55FPYUF6FQ\n",
            "3       1  B01M5KNSQN  B01M5KNSQN  AFETVW7S5M4LVJ7GTWPCKT7S3YBQ\n",
            "4       5  B081GCFHPG  B081GCFHPG  AE5DIA2HDWBPNGBO2FXN2PF4NQJA\n"
          ]
        }
      ]
    },
    {
      "cell_type": "markdown",
      "source": [
        "Extracting duplicate data and labeling of the user_id value to be used for prediction"
      ],
      "metadata": {
        "id": "sP1inIVWC32n"
      }
    },
    {
      "cell_type": "code",
      "source": [
        "id = reviewdata['user_id']\n",
        "print(\"The total number of reviews is\", id.size)\n",
        "id_count = (id.value_counts())\n",
        "print(\"The user who wrote the review is\", id_count.size)\n",
        "#Create only unique values of the user_id as a list\n",
        "dup_ind = make_list(id_count)"
      ],
      "metadata": {
        "colab": {
          "base_uri": "https://localhost:8080/"
        },
        "id": "Hg2ENOv0jay9",
        "outputId": "69b7b06f-3672-4924-b2e7-414f59ee07b0"
      },
      "execution_count": 396,
      "outputs": [
        {
          "output_type": "stream",
          "name": "stdout",
          "text": [
            "The total number of reviews is 70883\n",
            "The user who wrote the review is 68934\n"
          ]
        },
        {
          "output_type": "stream",
          "name": "stderr",
          "text": [
            "<ipython-input-386-e8b33d3049f5>:8: FutureWarning: Series.__getitem__ treating keys as positions is deprecated. In a future version, integer keys will always be treated as labels (consistent with DataFrame behavior). To access a value by position, use `ser.iloc[pos]`\n",
            "  if series1[i]>1:\n"
          ]
        }
      ]
    },
    {
      "cell_type": "code",
      "source": [
        "new_user_id = id.to_list()\n",
        "#Erase unnecessary character symbols\n",
        "result_dup_id = remove_special(dup_ind)\n",
        "result_user_id = remove_special(new_user_id)\n",
        "label_dic = {}\n",
        "#New labeling of user_id for ease of use\n",
        "reviewdata['user_id'] = labeling_user_id(result_user_id,result_dup_id,label_dic)"
      ],
      "metadata": {
        "id": "PA1Qa0pdjbHD"
      },
      "execution_count": 397,
      "outputs": []
    },
    {
      "cell_type": "code",
      "source": [
        "#Create a product label to use when extracting a recommend product in the prediction part\n",
        "new_label_df = make_label_list(meta)"
      ],
      "metadata": {
        "id": "txbcZyhpu3Gn"
      },
      "execution_count": 398,
      "outputs": []
    },
    {
      "cell_type": "code",
      "source": [
        "#Combine meta and new_label_df dataset into one dataframe\n",
        "metadata = pd.concat([meta,new_label_df],axis=1)\n",
        "print(metadata.head())\n",
        "print(reviewdata.head())"
      ],
      "metadata": {
        "colab": {
          "base_uri": "https://localhost:8080/"
        },
        "id": "bfxUEv2r7_l1",
        "outputId": "96f1fed6-7593-41f3-bcc7-131358328913"
      },
      "execution_count": 399,
      "outputs": [
        {
          "output_type": "stream",
          "name": "stdout",
          "text": [
            "  main_category                                              title  \\\n",
            "0    All Beauty  Howard LC0008 Leather Conditioner, 8-Ounce (4-...   \n",
            "1    All Beauty  Lurrose 100Pcs Full Cover Fake Toenails Artifi...   \n",
            "2    All Beauty                         Gold extatic Musk EDT 90ml   \n",
            "3    All Beauty  Brand New Headrang Face line Contour V-line Ma...   \n",
            "4    All Beauty  7 Packs Deep Wave Crochet Hair 22 Inch Deep wa...   \n",
            "\n",
            "   average_rating                                           features  \\\n",
            "0             4.8                                                 []   \n",
            "1             3.7  [The false toenails are durable with perfect l...   \n",
            "2             3.7  [Extatic Balmain Gold Musk By Balmain Edt Spra...   \n",
            "3             3.3                                                 []   \n",
            "4             3.4                                                 []   \n",
            "\n",
            "                                         description  price  \\\n",
            "0                                                 []   None   \n",
            "1  [Description, The false toenails are durable w...   6.99   \n",
            "2             [Edt spray 3 oz design house: balmain]  86.95   \n",
            "3                                                 []   79.5   \n",
            "4                                                 []   None   \n",
            "\n",
            "                                              images            store  \\\n",
            "0  {'hi_res': [None, 'https://m.media-amazon.com/...  Howard Products   \n",
            "1  {'hi_res': ['https://m.media-amazon.com/images...          Lurrose   \n",
            "2  {'hi_res': ['https://m.media-amazon.com/images...          Balmain   \n",
            "3  {'hi_res': ['https://m.media-amazon.com/images...             None   \n",
            "4  {'hi_res': ['https://m.media-amazon.com/images...     Yun Mei Hair   \n",
            "\n",
            "                                             details parent_asin  \\\n",
            "0  {\"Package Dimensions\": \"7.1 x 5.5 x 3 inches; ...  B01CUPMQZE   \n",
            "1  {\"Color\": \"As Shown\", \"Size\": \"Large\", \"Materi...  B07G9GWFSM   \n",
            "2  {\"Brand\": \"Balmain\", \"Item Form\": \"Spray\", \"It...  B01ERJEGS6   \n",
            "3  {\"Is Discontinued By Manufacturer\": \"No\", \"Pac...  B06XJZ7955   \n",
            "4  {\"Brand\": \"Yun Mei Hair\", \"Material\": \"Synthet...  B07Z818MLY   \n",
            "\n",
            "   labeling_list  \n",
            "0              0  \n",
            "1              1  \n",
            "2              2  \n",
            "3              3  \n",
            "4              4  \n",
            "   rating        asin parent_asin  user_id\n",
            "0       5  B07GHPCT6T  B07GHPCT6T        1\n",
            "1       5  B082QX2HP6  B082QX2HP6        2\n",
            "2       2  B07K8VTT6M  B07K8VTT6M        3\n",
            "3       1  B01M5KNSQN  B01M5KNSQN        4\n",
            "4       5  B081GCFHPG  B081GCFHPG        5\n"
          ]
        }
      ]
    },
    {
      "cell_type": "markdown",
      "source": [
        "Data Visualization"
      ],
      "metadata": {
        "id": "pQr58NfbEbh4"
      }
    },
    {
      "cell_type": "code",
      "source": [
        "asin = reviewdata['asin']\n",
        "asin_parent = reviewdata['parent_asin']\n",
        "plt.plot(asin,asin_parent, 'b+')\n",
        "plt.show()"
      ],
      "metadata": {
        "id": "UfYsHUBWEe1Q",
        "colab": {
          "base_uri": "https://localhost:8080/",
          "height": 430
        },
        "outputId": "175f635b-c5af-47e1-b873-8f9558d61dc3"
      },
      "execution_count": 400,
      "outputs": [
        {
          "output_type": "display_data",
          "data": {
            "text/plain": [
              "<Figure size 640x480 with 1 Axes>"
            ],
            "image/png": "[encoded data removed]"
          },
          "metadata": {}
        }
      ]
    },
    {
      "cell_type": "markdown",
      "source": [
        "Modeling"
      ],
      "metadata": {
        "id": "llW9TZU9MGUb"
      }
    },
    {
      "cell_type": "code",
      "source": [
        "#Get details data for text processing\n",
        "details_df = metadata['details']\n",
        "details_str_df = details_df.astype(str)\n",
        "tp_details_df = text_preprocessing(details_str_df)"
      ],
      "metadata": {
        "id": "Vc1pEqlpK4hs"
      },
      "execution_count": 401,
      "outputs": []
    },
    {
      "cell_type": "code",
      "source": [
        "CV = CountVectorizer()\n",
        "#Make metrix used string\n",
        "converted_metrix = CV.fit_transform(tp_details_df)\n",
        "cs_result = cosine_similarity(converted_metrix)"
      ],
      "metadata": {
        "id": "4-PQkrBxZKDF"
      },
      "execution_count": 402,
      "outputs": []
    },
    {
      "cell_type": "markdown",
      "source": [
        "Prediction"
      ],
      "metadata": {
        "id": "DuCUQkRIjbbh"
      }
    },
    {
      "cell_type": "code",
      "source": [
        "id = input(\"Please enter your own user_id : \")\n",
        "id_float = float(id)\n",
        "review_parent_asin = found_asin(id_float)\n",
        "#Get the product information that user have already bought\n",
        "already_buy_title = metadata[metadata['parent_asin']==review_parent_asin]['title'].values[0]\n",
        "already_buy_price = metadata[metadata['title']==already_buy_title]['price'].values[0]\n",
        "already_buy_rating = reviewdata[reviewdata['parent_asin']==review_parent_asin]['rating'].values[0]\n",
        "already_buy_data = str(metadata[metadata['title']==already_buy_title]['images'].values[0])\n",
        "print(already_buy_title,already_buy_rating,already_buy_price)\n",
        "image_show(already_buy_data)\n",
        "#Get the product details that user have already bought\n",
        "user_inform_data = found_data(review_parent_asin)\n",
        "pred_data = metadata[metadata['details'].str.contains(user_inform_data)]"
      ],
      "metadata": {
        "colab": {
          "base_uri": "https://localhost:8080/",
          "height": 151
        },
        "id": "hgEs52vwQmZ0",
        "outputId": "369ca5c9-46af-416c-8b4b-bdeb56d7ea77"
      },
      "execution_count": 403,
      "outputs": [
        {
          "output_type": "stream",
          "name": "stdout",
          "text": [
            "Please enter your own user_id : 559\n",
            "FUNOC Eyebrow Smooth Waterproof Cosmetic Beauty Makeup Eyebrow Pen Pencil With Brush 3 None\n"
          ]
        },
        {
          "output_type": "display_data",
          "data": {
            "text/plain": [
              "<PIL.Image.Image image mode=RGB size=100x100>"
            ],
            "image/png": "[encoded data removed]",
            "image/jpeg": "[encoded data removed]"
          },
          "metadata": {}
        }
      ]
    },
    {
      "cell_type": "code",
      "source": [
        "labeling_id = pred_data['labeling_list'].values[0]\n",
        "#Calculation of similarity with cosine similarity\n",
        "score = list(enumerate(cs_result[labeling_id]))\n",
        "#Sort the similar product in descending order\n",
        "sorted_score = sorted(score, key=lambda x:x[1], reverse= True)\n",
        "#Ignore the first score because it's the same\n",
        "item_list_based_score = sorted_score[1:11]"
      ],
      "metadata": {
        "id": "hme8YXdQcxoQ"
      },
      "execution_count": 404,
      "outputs": []
    },
    {
      "cell_type": "code",
      "source": [
        "rank = 1\n",
        "for item in item_list_based_score:\n",
        "    #Get the product information that recommend based on cosine similarity\n",
        "    title = metadata[metadata['labeling_list'] == item[0]]['title'].values[0]\n",
        "    rating = metadata[metadata['title']==title]['average_rating'].values[0]\n",
        "    price = metadata[metadata['title']==title]['price'].values[0]\n",
        "    detail = metadata[metadata['title']==title]['details'].values[0]\n",
        "    data = str(metadata[metadata['title']==title]['images'].values[0])\n",
        "    print(rank,title,rating,price,detail)\n",
        "    image_show(data)\n",
        "    rank = rank+1\n",
        "    #Show top 5 product\n",
        "    if rank > 5:\n",
        "        break"
      ],
      "metadata": {
        "colab": {
          "base_uri": "https://localhost:8080/",
          "height": 622
        },
        "id": "mnHnnjbPQtnp",
        "outputId": "c6e3610f-5a4d-43b3-fc22-342be2de0103"
      },
      "execution_count": 405,
      "outputs": [
        {
          "output_type": "stream",
          "name": "stdout",
          "text": [
            "1 Tattoo Eyebrow Pen Liquid Eyebrow Pencil with Fork Tip Long-lasting Waterproof Brow Eyebrow Eyeliner Pencil Brow Gel for Creating Natural Eyes Makeup Drawing Eyebrow and Eyeliner (Brown) 3.2 None {\"Brand\": \"UNIQUE2U\", \"Item Form\": \"Pencil\", \"Special Feature\": \"Long Lasting\", \"Material Feature\": \"Natural\", \"Skin Type\": \"All\", \"Is Discontinued By Manufacturer\": \"No\", \"Package Dimensions\": \"4.8 x 0.79 x 0.55 inches; 0.63 Ounces\"}\n"
          ]
        },
        {
          "output_type": "display_data",
          "data": {
            "text/plain": [
              "<PIL.Image.Image image mode=RGB size=100x100>"
            ],
            "image/png": "[encoded data removed]",
            "image/jpeg": "[encoded data removed]"
          },
          "metadata": {}
        },
        {
          "output_type": "stream",
          "name": "stdout",
          "text": [
            "2 Yuxuan Eyebrow Tattoo Pen Microblading Eyebrow Pencil with a Micro-Fork Tip Applicator Creates Natural Looking Brows Effortlessly and Stays on All Day(1 pc/set,Reddish Brown) 3.2 None {\"Item Form\": \"Pencil\", \"Special Feature\": \"Natural Looking\", \"Material Feature\": \"Natural\", \"Skin Type\": \"All\", \"Specialty\": \"Long Lasting\", \"Is Discontinued By Manufacturer\": \"No\", \"Package Dimensions\": \"6.6 x 2.5 x 0.4 inches; 0.81 Ounces\", \"UPC\": \"738770594107\"}\n"
          ]
        },
        {
          "output_type": "display_data",
          "data": {
            "text/plain": [
              "<PIL.Image.Image image mode=RGB size=100x100>"
            ],
            "image/png": "[encoded data removed]",
            "image/jpeg": "[encoded data removed]"
          },
          "metadata": {}
        },
        {
          "output_type": "stream",
          "name": "stdout",
          "text": [
            "3 Yuxuan Eyebrow Tattoo Pen Microblading Eyebrow Pencil with a Micro-Fork Tip Applicator Creates Natural Looking Brows Effortlessly and Stays on All Day(1 pcs/set.Chestnut) 3.5 None {\"Item Form\": \"Pencil\", \"Special Feature\": \"Natural Looking\", \"Material Feature\": \"Natural\", \"Skin Type\": \"All\", \"Specialty\": \"Long Lasting\", \"Is Discontinued By Manufacturer\": \"No\", \"Product Dimensions\": \"0.8 x 1 x 4 inches; 0.35 Ounces\", \"UPC\": \"738770594169\"}\n"
          ]
        },
        {
          "output_type": "display_data",
          "data": {
            "text/plain": [
              "<PIL.Image.Image image mode=RGB size=100x100>"
            ],
            "image/png": "[encoded data removed]",
            "image/jpeg": "[encoded data removed]"
          },
          "metadata": {}
        },
        {
          "output_type": "stream",
          "name": "stdout",
          "text": [
            "4 3D Eyebrow Pencil Durable Eyebrow Pencil with Soft Brush Girl Eyebrow Shaping Pencil light brown 4.4 None {\"Brand\": \"Eyebrow Pencil\", \"Item Form\": \"Pencil\", \"Material Feature\": \"Natural\", \"Product Benefits\": \"Softening\", \"Skin Type\": \"All\", \"Package Dimensions\": \"5.5 x 1.1 x 0.2 inches; 0.63 Ounces\", \"Item model number\": \"SJOO-MB\"}\n"
          ]
        },
        {
          "output_type": "display_data",
          "data": {
            "text/plain": [
              "<PIL.Image.Image image mode=RGB size=100x100>"
            ],
            "image/png": "[encoded data removed]",
            "image/jpeg": "[encoded data removed]"
          },
          "metadata": {}
        },
        {
          "output_type": "stream",
          "name": "stdout",
          "text": [
            "5 HIROCK 3 in 1 eyebrow pencil Long lasting and Waterproof Professional Makeup Auto Eyebrow Pencil (04# Gray) 4.0 None {\"Brand\": \"HIROCK\", \"Item Form\": \"Pencil\", \"Special Feature\": \"Waterproof, Long Lasting\", \"Material Feature\": \"Natural\", \"Product Benefits\": \"Long Lasting\", \"Is Discontinued By Manufacturer\": \"No\", \"Package Dimensions\": \"6.89 x 0.87 x 0.71 inches; 2.12 Ounces\", \"Item model number\": \"MB-3S\", \"UPC\": \"718979017959\"}\n"
          ]
        },
        {
          "output_type": "display_data",
          "data": {
            "text/plain": [
              "<PIL.Image.Image image mode=RGB size=100x100>"
            ],
            "image/png": "[encoded data removed]",
            "image/jpeg": "[encoded data removed]"
          },
          "metadata": {}
        }
      ]
    }
  ]
}