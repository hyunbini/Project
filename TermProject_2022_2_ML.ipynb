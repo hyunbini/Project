{
  "nbformat": 4,
  "nbformat_minor": 0,
  "metadata": {
    "colab": {
      "provenance": [],
      "mount_file_id": "14kByYdILbQepxLcEf6hSyPL6-7SbMvBe",
      "authorship_tag": "ABX9TyOL3hk6iQAbzhqCc62E+zY/"
    },
    "kernelspec": {
      "name": "python3",
      "display_name": "Python 3"
    },
    "language_info": {
      "name": "python"
    },
    "gpuClass": "standard"
  },
  "cells": [
    {
      "cell_type": "markdown",
      "source": [
        "Import Library"
      ],
      "metadata": {
        "id": "kLan5-F-faPt"
      }
    },
    {
      "cell_type": "code",
      "source": [
        "import pandas as pd\n",
        "import numpy as np\n",
        "from sklearn.metrics import mean_squared_error\n",
        "from google.colab import drive"
      ],
      "metadata": {
        "id": "MQcf-PhDfZyR"
      },
      "execution_count": 2,
      "outputs": []
    },
    {
      "cell_type": "markdown",
      "source": [
        "Giant Function of MF"
      ],
      "metadata": {
        "id": "Oc3I7IRofWMJ"
      }
    },
    {
      "cell_type": "code",
      "execution_count": 35,
      "metadata": {
        "id": "D7HTSTGqasa6"
      },
      "outputs": [],
      "source": [
        "def mf_giantfunction(userid,test_data):\n",
        "    # create a user movie rating matrix\n",
        "    def data_preprocessing_matrix(data_name):\n",
        "        data = data_name.drop_duplicates()\n",
        "        data = data.reset_index(drop=True)\n",
        "        data = data.dropna()\n",
        "        user_df = data.pivot(index='userId', columns='imdb_id', values='rating').fillna(0)\n",
        "        user_data = pd.DataFrame(user_df)\n",
        "        return user_data\n",
        "    def get_rmse(A, U, V, non_zeros):\n",
        "        #Make full predict matrix use P and Q.T\n",
        "        full_pred_matrix = np.dot(U, V.T)#Convert v matrix to transposition matrix for full matrix\n",
        "        #Save users who evaluated movies stored in y_non_zero\n",
        "        x_non_zero = [non_zero[0] for non_zero in non_zeros]\n",
        "        #Store movies that have already been rated by users stored in x_non_zero\n",
        "        y_non_zero = [non_zero[1] for non_zero in non_zeros]\n",
        "        #Save Real Rating score\n",
        "        A_non_zeros = A[x_non_zero, y_non_zero]\n",
        "        #Make predictive metrics using information from x_non_zero and y_non_zero\n",
        "        full_pred_matrix_non_zeros = full_pred_matrix[x_non_zero, y_non_zero]\n",
        "\n",
        "        #Calculate mse score and rmse score\n",
        "        mse = mean_squared_error(A_non_zeros, full_pred_matrix_non_zeros)\n",
        "        rmse = np.sqrt(mse)\n",
        "        return rmse\n",
        "    def matrix_factorization(A): \n",
        "        R = A.values\n",
        "        #Get the actual size of the training dataset\n",
        "        num_users, num_movies = R.shape\n",
        "\n",
        "        #Hyperparameter of Matrix factorization and SGD\n",
        "        K=100#Finish to update\n",
        "        steps = 400 #Finish to update\n",
        "        learning_rate=0.001 #Finish to update\n",
        "        r_lambda = 0.01\n",
        "    \n",
        "        np.random.seed(42)\n",
        "        u = np.random.normal(scale=1./K, size=(num_users, K)) #Create virtual random matrix with the size of user and the value of k \n",
        "        v = np.random.normal(scale=1./K, size=(num_movies, K)) #Create virtual random matrix with the size of movie and the value of k \n",
        "        \n",
        "        #Save the part of the training dataset that has already been evaluated to a list\n",
        "        non_zeros = [ (i, j, R[i,j]) for i in range(num_users) for j in range(num_movies) if R[i,j] > 0 ]\n",
        "  \n",
        "        #Update P & Q matrix used SGD\n",
        "        for step in range(steps):\n",
        "            for i, j, r in non_zeros:\n",
        "                # Calculate error\n",
        "                    err = r - np.dot(u[i, :], v[j, :].T)\n",
        "                # Update by applying SGD\n",
        "                    u[i,:] = u[i,:] + learning_rate*(err * v[j, :] - r_lambda*u[i,:])\n",
        "                    v[j,:] = v[j,:] + learning_rate*(err * u[i, :] - r_lambda*v[j,:])\n",
        "        #Calculate RMSE\n",
        "            rmse = get_rmse(R, u, v, non_zeros)\n",
        "            if(step==steps):\n",
        "                print(\"### Final step is finish, The rmse Score : \", rmse)\n",
        "        return u, v\n",
        "    \n",
        "    def get_unseen_list(ratings_matrix, id):\n",
        "        user_rating = ratings_matrix.loc[id,:]\n",
        "        seen_movie = user_rating[ user_rating > 0].index.tolist()\n",
        "        movies_list = ratings_matrix.columns.tolist()\n",
        "        unseen_movie = [ movie for movie in movies_list if movie not in seen_movie]\n",
        "        return unseen_movie\n",
        "    \n",
        "\n",
        "    #train model\n",
        "    data = all_movie_df[['userId','title','imdb_id','rating']]\n",
        "    traindf = data_preprocessing_matrix(data)\n",
        "    u,v = matrix_factorization(traindf)\n",
        "    pred_matrix = np.dot(u,v.T)#Convert v matrix to transposition matrix for full matrix\n",
        "    ratings_pred_matrix = pd.DataFrame(data=pred_matrix, index= traindf.index,columns = traindf.columns)\n",
        "    #test model\n",
        "    testdf = data_preprocessing_matrix(test_data)\n",
        "    u_tt,v_tt = matrix_factorization(testdf)\n",
        "    pred_matrix_tt = np.dot(u_tt,v_tt.T)#Convert v matrix to transposition matrix for full matrix\n",
        "    ratings_pred_matrix_tt = pd.DataFrame(data=pred_matrix_tt, index= testdf.index,columns = testdf.columns)\n",
        "    mse = mean_squared_error(testdf, ratings_pred_matrix_tt)\n",
        "    rmse = np.sqrt(mse)\n",
        "    print(\"The RMSE Score of testdata is : \" + str(rmse))\n",
        "    #Recommendation \n",
        "    unseen_list = get_unseen_list(traindf, userid)\n",
        "    recomm_movies = ratings_pred_matrix.loc[userid, unseen_list].sort_values(ascending=False)[:5]\n",
        "    recomm_movies = pd.DataFrame(data=recomm_movies.values,index=recomm_movies.index,columns=['pred_score'])\n",
        "    recomm_movies = pd.merge(recomm_movies, movies_metadata_title, on = 'imdb_id', how = 'left')\n",
        "    return recomm_movies\n",
        "\n",
        "    #unseen_list = get_unseen_list(testdf, userid)\n",
        "    #recomm_movies_tt = ratings_pred_matrix_tt.loc[userid, unseen_list].sort_values(ascending=False)[:5]\n",
        "    #recomm_movies_tt = pd.DataFrame(data=recomm_movies.values_tt,index=recomm_movies_tt.index,columns=['pred_score'])\n",
        "    #return recomm_movies_tt"
      ]
    },
    {
      "cell_type": "markdown",
      "source": [
        "Load training dataset"
      ],
      "metadata": {
        "id": "Ut2fH09KfkA6"
      }
    },
    {
      "cell_type": "code",
      "source": [
        "ratings = pd.read_csv('/content/drive/MyDrive/Colab Notebooks/ML Data/training_dt/ratings_small.csv')\n",
        "movies_metadata = pd.read_csv('/content/drive/MyDrive/Colab Notebooks/ML Data/training_dt/movies_metadata.csv')\n",
        "credits = pd.read_csv('/content/drive/MyDrive/Colab Notebooks/ML Data/training_dt/credits.csv')\n",
        "keywords = pd.read_csv('/content/drive/MyDrive/Colab Notebooks/ML Data/training_dt/keywords.csv')\n",
        "links = pd.read_csv('/content/drive/MyDrive/Colab Notebooks/ML Data/training_dt/links.csv')"
      ],
      "metadata": {
        "id": "91DO4Hwjfm8I",
        "colab": {
          "base_uri": "https://localhost:8080/"
        },
        "outputId": "89899ba1-bd5d-408e-c452-89e85cc8506b"
      },
      "execution_count": 3,
      "outputs": [
        {
          "output_type": "stream",
          "name": "stderr",
          "text": [
            "/usr/local/lib/python3.7/dist-packages/IPython/core/interactiveshell.py:3326: DtypeWarning: Columns (10) have mixed types.Specify dtype option on import or set low_memory=False.\n",
            "  exec(code_obj, self.user_global_ns, self.user_ns)\n"
          ]
        }
      ]
    },
    {
      "cell_type": "markdown",
      "source": [
        "Load train dataset"
      ],
      "metadata": {
        "id": "5LBTblDufnPg"
      }
    },
    {
      "cell_type": "code",
      "source": [
        "test = np.load('/content/drive/MyDrive/Colab Notebooks/ML Data/test_dt/Dataset.npy')\n",
        "test = pd.DataFrame(test)\n",
        "test = test.rename(columns={0:'userId'})\n",
        "test[['userId', 'imdb_id', 'rating', 'date']] = pd.DataFrame(test.userId.str.split(',', 3).tolist())\n",
        "test['rating'] = pd.to_numeric(test['rating'])\n",
        "test = test.iloc[:1000]"
      ],
      "metadata": {
        "id": "ubBj6hwmfoxn"
      },
      "execution_count": 4,
      "outputs": []
    },
    {
      "cell_type": "markdown",
      "source": [
        "Rating data preprocessing"
      ],
      "metadata": {
        "id": "_yBsfZl1KkOf"
      }
    },
    {
      "cell_type": "code",
      "source": [
        "ratings.rename(columns={'movieId':'id'}, inplace = True)\n",
        "ratings.loc['id'] = ratings['id'].astype('str')\n",
        "ratings['id'] = pd.to_numeric(ratings['id'])"
      ],
      "metadata": {
        "id": "EKXWlIjOKmBM"
      },
      "execution_count": 5,
      "outputs": []
    },
    {
      "cell_type": "markdown",
      "source": [
        "Metadata preprocessing"
      ],
      "metadata": {
        "id": "tzTIaAkAKo_e"
      }
    },
    {
      "cell_type": "code",
      "source": [
        "#나중에 최종결과 보여줄 때 movies_metadata_origin을 사용할 예정\n",
        "movies_metadata_origin = movies_metadata\n",
        "#계산에 불필요한 ft drop\n",
        "movies_metadata.drop(['homepage','overview', 'tagline', 'poster_path'], axis = 1, inplace = True)\n",
        "movies_metadata.drop(['vote_average','vote_count'], axis = 1, inplace = True)\n",
        "movies_metadata.drop(['production_companies'], axis = 1, inplace = True)\n",
        "#belongs_to_collection null 값을 no collection 값으로 변경\n",
        "movies_metadata['belongs_to_collection'].replace(np.nan,'no collection', inplace = True)\n",
        "#null값 없애기\n",
        "movies_metadata.dropna(inplace = True)\n",
        "#'genres', 'proudction_countries'가 null인 경우 drop\n",
        "movies_metadata = movies_metadata.loc[movies_metadata_origin['genres'] != \"[]\"]\n",
        "movies_metadata = movies_metadata.loc[movies_metadata_origin['production_countries'] != \"[]\"]\n",
        "#movies_metadata에서 budget이 0 인 것 개수\n",
        "len(movies_metadata.loc[movies_metadata['budget'] == '0']['budget'])\n",
        "movies_metadata['budget'] = pd.to_numeric(movies_metadata['budget'])\n",
        "#movies_metadata['budget'] 0인 것은 나머지의 평균으로 넣는다.\n",
        "budget_mean = movies_metadata.loc[movies_metadata['budget'] != 0]['budget'].mean()\n",
        "movies_metadata['budget'].replace(0, budget_mean, inplace = True)\n",
        "#'id'형식이 날짜 형식인 경우 -> 잘못된 경우\n",
        "movies_metadata['isIdRight'] = movies_metadata['id'].str.contains('|'.join('-'))\n",
        "movies_metadata = movies_metadata[movies_metadata['isIdRight'] == False]\n",
        "movies_metadata.drop(['isIdRight'], axis = 1, inplace = True)\n",
        "#추후 merge를 위해 index id의 값들을 숫자형태로 변경\n",
        "movies_metadata.loc['id'] = movies_metadata['id'].astype('str')\n",
        "movies_metadata['id'] = pd.to_numeric(movies_metadata['id'])\n",
        "movies_metadata_title = movies_metadata[[\"imdb_id\", \"title\"]]"
      ],
      "metadata": {
        "id": "0C9bNN-RKq5S"
      },
      "execution_count": 6,
      "outputs": []
    },
    {
      "cell_type": "markdown",
      "source": [
        "Credits preprocessing"
      ],
      "metadata": {
        "id": "rniztxMiKu-A"
      }
    },
    {
      "cell_type": "code",
      "source": [
        "#credits의 [] - null값 제거\n",
        "credits = credits.loc[credits['cast'] != \"[]\"]\n",
        "credits = credits.loc[credits['crew'] != \"[]\"]\n",
        "#추후 merge를 위해 index id의 값들을 숫자형태로 변경\n",
        "#credits['id'] = pd.to_numeric(credits['id'])"
      ],
      "metadata": {
        "id": "qS-Y-xMBKxls"
      },
      "execution_count": 7,
      "outputs": []
    },
    {
      "cell_type": "markdown",
      "source": [
        "Link preprocessing"
      ],
      "metadata": {
        "id": "YcYF7xPaKzYO"
      }
    },
    {
      "cell_type": "code",
      "source": [
        "links = links.dropna()"
      ],
      "metadata": {
        "id": "7kx_QIL6K0pb"
      },
      "execution_count": 8,
      "outputs": []
    },
    {
      "cell_type": "markdown",
      "source": [
        "Keyword preprocessing"
      ],
      "metadata": {
        "id": "VVYyi_shK2XL"
      }
    },
    {
      "cell_type": "code",
      "source": [
        "keywords = keywords.loc[keywords['keywords'] != \"[]\"]"
      ],
      "metadata": {
        "id": "TDl_RgzHK4Cl"
      },
      "execution_count": 9,
      "outputs": []
    },
    {
      "cell_type": "markdown",
      "source": [
        "Merge training dataset"
      ],
      "metadata": {
        "id": "T1R_hW2hK6IZ"
      }
    },
    {
      "cell_type": "code",
      "source": [
        "all_movie_df = pd.merge(movies_metadata, credits)\n",
        "#print(all_movie_df.head())\n",
        "all_movie_df = pd.merge(all_movie_df, ratings)\n",
        "print(all_movie_df.columns)\n",
        "#rating 별로 movie df가 합쳐진 것을 알 수 있음\n",
        "#print(len(ratings[ratings['id'] == 949]))\n",
        "#print(len(all_movie_df[all_movie_df['id'] == 949]))\n",
        "#ratings['movield'] = pd.to_numeric(ratings['movield'])\n",
        "#movies_metadata['id'] = pd.to_numeric(movies_metadata['id'])"
      ],
      "metadata": {
        "id": "AaHoUUJIK9E5",
        "colab": {
          "base_uri": "https://localhost:8080/"
        },
        "outputId": "206bc668-0d2c-45ba-c8e6-be0e2f8f63cf"
      },
      "execution_count": 10,
      "outputs": [
        {
          "output_type": "stream",
          "name": "stdout",
          "text": [
            "Index(['adult', 'belongs_to_collection', 'budget', 'genres', 'id', 'imdb_id',\n",
            "       'original_language', 'original_title', 'popularity',\n",
            "       'production_countries', 'release_date', 'revenue', 'runtime',\n",
            "       'spoken_languages', 'status', 'title', 'video', 'cast', 'crew',\n",
            "       'userId', 'rating', 'timestamp'],\n",
            "      dtype='object')\n"
          ]
        }
      ]
    },
    {
      "cell_type": "markdown",
      "source": [
        "Main"
      ],
      "metadata": {
        "id": "l-hdT4qVf-gD"
      }
    },
    {
      "cell_type": "code",
      "source": [
        "user_id = float(input('order of user : '))\n",
        "result = mf_giantfunction(user_id,test)\n",
        "result"
      ],
      "metadata": {
        "id": "tlV6Zl0Wf_xS",
        "colab": {
          "base_uri": "https://localhost:8080/",
          "height": 243
        },
        "outputId": "379969ab-14df-410b-f817-c8c18cce8c0f"
      },
      "execution_count": 36,
      "outputs": [
        {
          "output_type": "stream",
          "name": "stdout",
          "text": [
            "order of user : 1\n",
            "The RMSE Score of testdata is : 0.4341623716571369\n"
          ]
        },
        {
          "output_type": "execute_result",
          "data": {
            "text/plain": [
              "     imdb_id  pred_score                                 title\n",
              "0  tt1642665    3.484363                        Urban Explorer\n",
              "1  tt1865335    3.395263  Confession of a Child of the Century\n",
              "2  tt0018737    3.227056                         Pandora's Box\n",
              "3  tt0101393    3.222429                             Backdraft\n",
              "4  tt0045810    3.213671              Gentlemen Prefer Blondes"
            ],
            "text/html": [
              "\n",
              "  <div id=\"df-5e8be16c-f85a-4af3-9d1d-2ee646d25461\">\n",
              "    <div class=\"colab-df-container\">\n",
              "      <div>\n",
              "<style scoped>\n",
              "    .dataframe tbody tr th:only-of-type {\n",
              "        vertical-align: middle;\n",
              "    }\n",
              "\n",
              "    .dataframe tbody tr th {\n",
              "        vertical-align: top;\n",
              "    }\n",
              "\n",
              "    .dataframe thead th {\n",
              "        text-align: right;\n",
              "    }\n",
              "</style>\n",
              "<table border=\"1\" class=\"dataframe\">\n",
              "  <thead>\n",
              "    <tr style=\"text-align: right;\">\n",
              "      <th></th>\n",
              "      <th>imdb_id</th>\n",
              "      <th>pred_score</th>\n",
              "      <th>title</th>\n",
              "    </tr>\n",
              "  </thead>\n",
              "  <tbody>\n",
              "    <tr>\n",
              "      <th>0</th>\n",
              "      <td>tt1642665</td>\n",
              "      <td>3.484363</td>\n",
              "      <td>Urban Explorer</td>\n",
              "    </tr>\n",
              "    <tr>\n",
              "      <th>1</th>\n",
              "      <td>tt1865335</td>\n",
              "      <td>3.395263</td>\n",
              "      <td>Confession of a Child of the Century</td>\n",
              "    </tr>\n",
              "    <tr>\n",
              "      <th>2</th>\n",
              "      <td>tt0018737</td>\n",
              "      <td>3.227056</td>\n",
              "      <td>Pandora's Box</td>\n",
              "    </tr>\n",
              "    <tr>\n",
              "      <th>3</th>\n",
              "      <td>tt0101393</td>\n",
              "      <td>3.222429</td>\n",
              "      <td>Backdraft</td>\n",
              "    </tr>\n",
              "    <tr>\n",
              "      <th>4</th>\n",
              "      <td>tt0045810</td>\n",
              "      <td>3.213671</td>\n",
              "      <td>Gentlemen Prefer Blondes</td>\n",
              "    </tr>\n",
              "  </tbody>\n",
              "</table>\n",
              "</div>\n",
              "      <button class=\"colab-df-convert\" onclick=\"convertToInteractive('df-5e8be16c-f85a-4af3-9d1d-2ee646d25461')\"\n",
              "              title=\"Convert this dataframe to an interactive table.\"\n",
              "              style=\"display:none;\">\n",
              "        \n",
              "  <svg xmlns=\"http://www.w3.org/2000/svg\" height=\"24px\"viewBox=\"0 0 24 24\"\n",
              "       width=\"24px\">\n",
              "    <path d=\"M0 0h24v24H0V0z\" fill=\"none\"/>\n",
              "    <path d=\"M18.56 5.44l.94 2.06.94-2.06 2.06-.94-2.06-.94-.94-2.06-.94 2.06-2.06.94zm-11 1L8.5 8.5l.94-2.06 2.06-.94-2.06-.94L8.5 2.5l-.94 2.06-2.06.94zm10 10l.94 2.06.94-2.06 2.06-.94-2.06-.94-.94-2.06-.94 2.06-2.06.94z\"/><path d=\"M17.41 7.96l-1.37-1.37c-.4-.4-.92-.59-1.43-.59-.52 0-1.04.2-1.43.59L10.3 9.45l-7.72 7.72c-.78.78-.78 2.05 0 2.83L4 21.41c.39.39.9.59 1.41.59.51 0 1.02-.2 1.41-.59l7.78-7.78 2.81-2.81c.8-.78.8-2.07 0-2.86zM5.41 20L4 18.59l7.72-7.72 1.47 1.35L5.41 20z\"/>\n",
              "  </svg>\n",
              "      </button>\n",
              "      \n",
              "  <style>\n",
              "    .colab-df-container {\n",
              "      display:flex;\n",
              "      flex-wrap:wrap;\n",
              "      gap: 12px;\n",
              "    }\n",
              "\n",
              "    .colab-df-convert {\n",
              "      background-color: #E8F0FE;\n",
              "      border: none;\n",
              "      border-radius: 50%;\n",
              "      cursor: pointer;\n",
              "      display: none;\n",
              "      fill: #1967D2;\n",
              "      height: 32px;\n",
              "      padding: 0 0 0 0;\n",
              "      width: 32px;\n",
              "    }\n",
              "\n",
              "    .colab-df-convert:hover {\n",
              "      background-color: #E2EBFA;\n",
              "      box-shadow: 0px 1px 2px rgba(60, 64, 67, 0.3), 0px 1px 3px 1px rgba(60, 64, 67, 0.15);\n",
              "      fill: #174EA6;\n",
              "    }\n",
              "\n",
              "    [theme=dark] .colab-df-convert {\n",
              "      background-color: #3B4455;\n",
              "      fill: #D2E3FC;\n",
              "    }\n",
              "\n",
              "    [theme=dark] .colab-df-convert:hover {\n",
              "      background-color: #434B5C;\n",
              "      box-shadow: 0px 1px 3px 1px rgba(0, 0, 0, 0.15);\n",
              "      filter: drop-shadow(0px 1px 2px rgba(0, 0, 0, 0.3));\n",
              "      fill: #FFFFFF;\n",
              "    }\n",
              "  </style>\n",
              "\n",
              "      <script>\n",
              "        const buttonEl =\n",
              "          document.querySelector('#df-5e8be16c-f85a-4af3-9d1d-2ee646d25461 button.colab-df-convert');\n",
              "        buttonEl.style.display =\n",
              "          google.colab.kernel.accessAllowed ? 'block' : 'none';\n",
              "\n",
              "        async function convertToInteractive(key) {\n",
              "          const element = document.querySelector('#df-5e8be16c-f85a-4af3-9d1d-2ee646d25461');\n",
              "          const dataTable =\n",
              "            await google.colab.kernel.invokeFunction('convertToInteractive',\n",
              "                                                     [key], {});\n",
              "          if (!dataTable) return;\n",
              "\n",
              "          const docLinkHtml = 'Like what you see? Visit the ' +\n",
              "            '<a target=\"_blank\" href=https://colab.research.google.com/notebooks/data_table.ipynb>data table notebook</a>'\n",
              "            + ' to learn more about interactive tables.';\n",
              "          element.innerHTML = '';\n",
              "          dataTable['output_type'] = 'display_data';\n",
              "          await google.colab.output.renderOutput(dataTable, element);\n",
              "          const docLink = document.createElement('div');\n",
              "          docLink.innerHTML = docLinkHtml;\n",
              "          element.appendChild(docLink);\n",
              "        }\n",
              "      </script>\n",
              "    </div>\n",
              "  </div>\n",
              "  "
            ]
          },
          "metadata": {},
          "execution_count": 36
        }
      ]
    }
  ]
}